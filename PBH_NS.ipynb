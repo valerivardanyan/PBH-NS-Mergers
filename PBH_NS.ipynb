{
 "cells": [
  {
   "cell_type": "code",
   "execution_count": 116,
   "source": [
    "\n",
    "%matplotlib widget\n",
    "#%matplotlib notebook\n",
    "### ---> General\n",
    "import numpy as np\n",
    "from scipy import interpolate\n",
    "\n",
    "### ---> Cosmology\n",
    "from astropy import constants as const\n",
    "from astropy.cosmology import Planck15\n",
    "from astropy import units as u\n",
    "\n",
    "\n",
    "from colossus.cosmology import cosmology\n",
    "from colossus.lss import mass_function\n",
    "cosmo = cosmology.setCosmology('planck18')\n",
    "\n",
    "\n",
    "### ---> plotting\n",
    "from matplotlib import pyplot as plt\n",
    "\n",
    "import matplotlib.colors as mcolors\n",
    "import matplotlib.cm as cm\n",
    "from matplotlib.colors import ListedColormap\n",
    "\n",
    "\n",
    "plt.rc('xtick',labelsize=16)\n",
    "plt.rc('ytick',labelsize=16)\n",
    "plt.rc('mathtext', fontset='stix')\n",
    "plt.rc('font', family='STIXGeneral')\n",
    "plt.rc('font', size=15)\n",
    "plt.rc('figure', autolayout=True)\n",
    "plt.rc('axes', titlesize=16, labelsize=17)\n",
    "plt.rc('lines', linewidth=2, markersize=6)\n",
    "plt.rc('legend', fontsize=15)\n",
    "plt.rc('figure')\n",
    "\n"
   ],
   "outputs": [],
   "metadata": {}
  },
  {
   "cell_type": "code",
   "execution_count": 117,
   "source": [
    "class halo:\n",
    "    def __init__(self, M_halo, R_ns_over_R_NFW):\n",
    "        self.M_halo = M_halo\n",
    "        self.R_ns_over_R_NFW = R_ns_over_R_NFW\n",
    "\n",
    "        self.C_lst = self.concentration()\n",
    "\n",
    "        ### First we compute the normalized masses of the haloes then obtain rho_NFW_0/rho_crit\n",
    "        ### NFW_mass_integral stands for 4 pi Int dx x^2 NFW(x)\n",
    "        NFW_mass_integral = self.NFW_tilde_integral_1(self.C_lst) - self.NFW_tilde_integral_1(np.zeros(len(self.C_lst)))\n",
    "        rho_NFW_0_over_rho_crit = 200.*self.C_lst**3/3./NFW_mass_integral\n",
    "\n",
    "\n",
    "        ### Now we can obtain rho_NFW_0 for all the halos\n",
    "        rho_crit = Planck15.critical_density(0).to(u.Msun/u.kpc**3) # M_sun/kpc^3\n",
    "        self.rho_NFW_0_lst = rho_NFW_0_over_rho_crit*rho_crit # M_sun/kpc^3\n",
    "\n",
    "\n",
    "        ### Similarly, we obtain the R_NFW_0 and R_vir for all the halos\n",
    "        R_NFW_0_cube_rho_crit = self.M_halo/NFW_mass_integral/4./np.pi/rho_NFW_0_over_rho_crit\n",
    "        self.R_NFW_0_lst = (R_NFW_0_cube_rho_crit/rho_crit)**(1./3.) # kpc\n",
    "        self.R_vir_lst = self.R_NFW_0_lst*self.C_lst # kpc\n",
    "\n",
    "\n",
    "        ### Number of neutron stars in each halo is computed as\n",
    "        SFHR_params = [10**(-1.777), 10**(11.514), -1.412, 0.316, 3.508]\n",
    "        self.M_star_lst = self.stellar_mass(SFHR_params)\n",
    "        self.N_ns_lst = self.N_ns(SFHR_params)[\"N_ns\"]\n",
    "        self.R_ns_0_lst = R_ns_over_R_NFW*self.R_NFW_0_lst\n",
    "\n",
    "        ### We evaluate rho_ns_0 by the normalization condition 4 pi rho_ns_0 R_ns_0^3 Int dx x^2 NS(x) = N_ns M_ns\n",
    "        ### M_ns is assumed to be 1 M_sun\n",
    "        ns_mass_integral = self.NS_tilde_integral(self.C_lst*self.R_NFW_0_lst/self.R_ns_0_lst) - self.NS_tilde_integral(0.)\n",
    "        denominator = 4.*np.pi*self.R_ns_0_lst**3*ns_mass_integral\n",
    "        numerator = self.N_ns_lst*u.M_sun\n",
    "        self.rho_ns_0_lst = numerator/denominator\n",
    "\n",
    "\n",
    "        ### We also prepare the NFW and ns profiles for later integrals\n",
    "        self.x_lst = np.geomspace(1e-5, self.C_lst, 10000).T\n",
    "        self.NFW_profiles = self.NFW_tilde(self.x_lst)\n",
    "        self.ns_profiles = self.NS_tilde(self.x_lst, np.array([self.R_NFW_0_lst, self.R_ns_0_lst]))\n",
    "        \n",
    "        \n",
    "        ### The virial velocities and velocity dispersion of each halo\n",
    "        C_max = 2.1626\n",
    "        self.v_vir_lst = np.sqrt(const.G*self.M_halo/self.R_vir_lst).to(u.km/u.s) # km/s\n",
    "        self.v_dm_lst = self.v_vir_lst*np.sqrt(self.C_lst/self.g(self.C_lst))\\\n",
    "                        /np.sqrt(C_max/self.g(C_max))/np.sqrt(2.) # km/s\n",
    "\n",
    "\n",
    "    def NFW_tilde(self, x):\n",
    "            \n",
    "            return 1./x/(1. + x)**2\n",
    "    \n",
    "    def NFW_tilde_integral_1(self, x):\n",
    "        ### Int x^2 NFW(x) dx\n",
    "        \n",
    "        return 1./(1. + x) + np.log(1. + x)\n",
    "\n",
    "    def NFW_tilde_integral_2(self, x):\n",
    "        ### Int x^2 NFW(x)^2 dx\n",
    "        \n",
    "        return -1./3./(1. + x)**3\n",
    "\n",
    "    def NS_tilde_integral(self, x):\n",
    "        ### Int x^2 NS(x) dx\n",
    "        \n",
    "        return (-2. -2.*x - x**2)*np.exp(-x)\n",
    "        #return np.exp(-x)*(-6. - 6.*x - 3.*x**2 - x**3)\n",
    "\n",
    "\n",
    "    def NS_tilde(self, x, params):\n",
    "        \n",
    "        params_length = len(params[0,:])\n",
    "        \n",
    "        R_NFW_0 = params[0,:].reshape(params_length, 1)\n",
    "        R_ns_0 = params[1,:].reshape(params_length, 1)\n",
    "\n",
    "        return np.exp(-x*R_NFW_0/R_ns_0)\n",
    "\n",
    "    def N_ns(self, SHMR_params):\n",
    "        \n",
    "        salpeter_prefac = 0.06 # If int phi(m)dm = 1, then salpeter_prefac = 0.06\n",
    "        salpeter_power = -2.35\n",
    "\n",
    "\n",
    "        NS_M_min = 8. # M_sun\n",
    "        NS_M_max = 100. # M_sun \n",
    "\n",
    "        M_stellar = self.stellar_mass(SHMR_params)\n",
    "        #M_NGC_4993 = 2.95*1e10 M_sun\n",
    "\n",
    "        integral_1 = salpeter_prefac*(1./(salpeter_power + 1.))*\\\n",
    "                            (NS_M_max**(salpeter_power + 1.) - NS_M_min**(salpeter_power + 1.))\n",
    "        \n",
    "        \n",
    "        t_0 = 3. #Gyr\n",
    "        tau = 0.1\n",
    "\n",
    "        t_life = 0.02 # Gyr\n",
    "        t_lst = np.linspace(0.1 - t_life, 10 - t_life, 100)\n",
    "        psi = self.SFH(t_lst, [t_0, tau])\n",
    "\n",
    "        integral_2 = np.trapz(psi, t_lst)\n",
    "\n",
    "        N_ns = M_stellar*integral_1*integral_2\n",
    "        return {\"N_ns\":N_ns, \"M_stellar\":M_stellar, \"SFH\":psi}\n",
    "\n",
    "\n",
    "    def SFH(self, t_lst, SFH_params):\n",
    "        t_0, tau = SFH_params\n",
    "\n",
    "        tmp_1 = 1./t_lst/np.sqrt(2.*np.pi*tau**2)\n",
    "        tmp_2 = np.exp(-(np.log(t_lst) - np.log(t_0))**2/2./tau**2)\n",
    "        \n",
    "        return tmp_1*tmp_2\n",
    "\n",
    "\n",
    "    def g(self, C):\n",
    "        return np.log(1. + C) - C/(1. + C)\n",
    "\n",
    "\n",
    "\n",
    "    def stellar_mass(self, SHMR_params):\n",
    "        ### --- Fitting function from appendix A of 1401.7329\n",
    "        ### --- M_halo in M_sun\n",
    "\n",
    "        epsilon, M_1, alpha, gamma, delta = SHMR_params\n",
    "        f = lambda x: -np.log10(10**(alpha*x) + 1.) + delta*(np.log10(1. + np.exp(x))**gamma)/(1. + np.exp(10**(-x)))\n",
    "        \n",
    "        M_star = epsilon*M_1*10**(f(np.log10(self.M_halo.value/M_1)) - f(0.))\n",
    "        #print(\"M_star = \", M_star)\n",
    "\n",
    "        \n",
    "        return M_star\n",
    "\n",
    "    def concentration(self):\n",
    "        ### --- Fitting function from appendix C of 1601.02624\n",
    "        ### --- M_halo in M_sun/h\n",
    "\n",
    "        h = 0.7\n",
    "        reference_mass = 1e10*h*u.Msun # in M_sun/h\n",
    "        xi = 1./(self.M_halo/reference_mass)\n",
    "\n",
    "        c_0 = 3.395\n",
    "        beta = 0.307\n",
    "        gamma_1 = 0.628\n",
    "        gamma_2 = 0.317\n",
    "        nu_0 = 4.135 - 0.564 - 0.210 + 0.0557 - 0.00348\n",
    "\n",
    "        delta_sc = 1.686\n",
    "        sigma_M = 22.26*xi**0.292/(1. + 1.53*xi**0.275 + 3.36*xi**0.198)\n",
    "        nu = delta_sc/sigma_M\n",
    "\n",
    "        concentration = c_0*(nu/nu_0)**(-gamma_1)*(1. + (nu/nu_0)**(1./beta))**(-beta*(gamma_2 - gamma_1))\n",
    "\n",
    "        return concentration\n",
    "\n",
    "    def halo_properties(self):\n",
    "\n",
    "        halo_property_dictionary = {\"Concentration\":self.C_lst, \"rho_NFW_0\":self.rho_NFW_0_lst, \"R_NFW_0\":self.R_NFW_0_lst, \"R_virial\":self.R_vir_lst, \\\n",
    "                            \"N_ns\":self.N_ns_lst, \"rho_ns_0\":self.rho_ns_0_lst,\n",
    "                            \"x_lst\":self.x_lst, \"NFW_profiles\":self.NFW_profiles, \"ns_profiles\":self.ns_profiles, \"M_star\":self.M_star_lst}\n",
    "\n",
    "        return halo_property_dictionary\n",
    "        \n",
    "\n",
    "\n",
    "\n",
    "\n",
    "    \n",
    "\n",
    "\n",
    "class rates:\n",
    "    def __init__(self, halo, binary_mass_params):\n",
    "        self.halo = halo\n",
    "        self.m_1 = binary_mass_params[\"m_1\"]\n",
    "        self.m_2 = binary_mass_params[\"m_2\"]\n",
    "        self.M = binary_mass_params[\"M\"]\n",
    "        self.eta = binary_mass_params[\"eta\"]\n",
    "        \n",
    "\n",
    "    def cross_section(self):\n",
    "\n",
    "        ### Now we turn to velocities\n",
    "        \n",
    "        v_vir_lst = self.halo.v_vir_lst\n",
    "        v_dm_lst = self.halo.v_dm_lst\n",
    "\n",
    "\n",
    "        ### Here is our Maxwell-Boltzmann distribution for each halo\n",
    "        v_PBH_lst = np.linspace(1e-12, np.ones(len(v_vir_lst)), 10000).T ### Normalized to v_vir\n",
    "\n",
    "        exponent_1_numerator = v_PBH_lst**2*v_vir_lst.reshape(len(v_vir_lst), 1)**2\n",
    "        exponent_1_denominator = v_dm_lst.reshape(len(v_dm_lst), 1)**2\n",
    "        exponent_1 = -exponent_1_numerator/exponent_1_denominator\n",
    "\n",
    "        exponent_2_numerator = np.ones(np.shape(v_PBH_lst))*v_vir_lst.reshape(len(v_vir_lst), 1)**2\n",
    "        exponent_2_denominator = v_dm_lst.reshape(len(v_dm_lst), 1)**2\n",
    "        exponent_2 = -exponent_2_numerator/exponent_2_denominator\n",
    "\n",
    "        ### The MB dist\n",
    "        P_v_PBH = np.exp(exponent_1) - np.exp(exponent_2)\n",
    "\n",
    "        ### We normalize the distributions\n",
    "        normalization_integral = v_vir_lst**3*np.trapz(P_v_PBH*v_PBH_lst**2, v_PBH_lst, axis = 1)\n",
    "        F_0_lst = 1./4./np.pi/normalization_integral\n",
    "\n",
    "        ### The normalized distributions\n",
    "        P_v_PBH = F_0_lst.reshape(len(F_0_lst), 1)*P_v_PBH\n",
    "\n",
    "        ### The expectation value of the velocity term\n",
    "        #4.*np.pi*\n",
    "        # In units of (km/s)^-11/7\n",
    "        avg_vel_PBH_factor = v_vir_lst**(10./7.)*np.trapz(P_v_PBH*v_PBH_lst**(3./7.), v_PBH_lst, axis = 1)\n",
    "        # In units of (kpc/yr)^-11/7\n",
    "        self.avg_vel_PBH_factor = avg_vel_PBH_factor.to(u.kpc**(-11./7.)/u.year**(-11./7.)) \n",
    "\n",
    "\n",
    "\n",
    "\n",
    "        ### The velocity independent part of <sigma v>\n",
    "        sigma_prefac = np.pi*(85.*np.pi/3.)**(2./7.)*2.**(4./7.)*const.G**2*M**2*eta**(2./7.)*const.c**(-10./7.)\n",
    "        sigma_prefac = sigma_prefac.to(u.kpc**(32/7)/u.year**(18/7))\n",
    "\n",
    "        ### <sigma v> in units of kpc^3/yr\n",
    "        self.sigma_v_avg = sigma_prefac*avg_vel_PBH_factor\n",
    "\n",
    "        ### sigma for a reference velocity of 200 km/s, in units of kpc^2\n",
    "        reference_vel = (200.*u.km/u.s).to(u.kpc/u.year)\n",
    "        sigma_reference_200 = sigma_prefac*reference_vel**(-18./7.)\n",
    "\n",
    "        velocity_dictionary = {\"v_vir_lst\":v_vir_lst, \n",
    "                               \"v_dm_lst\":v_dm_lst, \n",
    "                               \"sigma_v_avg\":self.sigma_v_avg, \n",
    "                               \"sigma_reference_200\":sigma_reference_200}\n",
    "\n",
    "        return velocity_dictionary\n",
    "\n",
    "    def rates_per_halo(self):\n",
    "\n",
    "        cross_section_properties = self.cross_section()\n",
    "\n",
    "        ### PBH-PBH merger rate per halo\n",
    "        \n",
    "        ### NFW-NFW integral\n",
    "        density_integral = np.trapz(self.halo.x_lst**2*self.halo.NFW_profiles**2, self.halo.x_lst, axis = 1)\n",
    "        ### PBH-PBH rate per halo in units of 1/yr\n",
    "        PBHPBH_Rate_per_halo = self.sigma_v_avg*self.halo.rho_NFW_0_lst**2*self.halo.R_NFW_0_lst**3*0.5*4.*np.pi*density_integral/self.m_1/self.m_2\n",
    "        self.PBHPBH_Rate_per_halo = PBHPBH_Rate_per_halo.to(1./u.year)\n",
    "\n",
    "        ### Analytical expression\n",
    "        ### The C-dependent part\n",
    "        tmp_C_term = (1. - 1./(1. + self.halo.C_lst)**3)/self.halo.g(C_lst)**2\n",
    "\n",
    "        ### Other Halo dependent parts\n",
    "        tmp_halo_term = self.halo.M_halo**2*self.avg_vel_PBH_factor/self.halo.R_NFW_0_lst**3\n",
    "\n",
    "        ### The numerical prefactor\n",
    "        anal_prefac = (85.*np.pi/3.)**(2./7.)*const.G**2*const.c**(-10./7.)/6.\n",
    "        #(85.*np.pi/12./np.sqrt(2.))**(2./7.)*9.*2.**(3./7.)*const.G**2*const.c**(-10./7.)\n",
    "\n",
    "        ### PBH-PBH rate per halo\n",
    "        PBHPBH_Rate_per_halo_anal = anal_prefac*tmp_C_term*tmp_halo_term\n",
    "        ### In units of 1/yr\n",
    "        self.PBHPBH_Rate_per_halo_anal = PBHPBH_Rate_per_halo_anal.to(1./u.year)\n",
    "\n",
    "        ### PBH-NS merger rate per halo\n",
    " \n",
    "        ### NFW-NS integral\n",
    "        density_integral = np.trapz(self.halo.x_lst**2*self.halo.NFW_profiles*self.halo.ns_profiles, self.halo.x_lst, axis = 1)\n",
    "        ### PBH-PBH rate per halo in units of 1/yr\n",
    "        PBHNS_Rate_per_halo = self.sigma_v_avg*self.halo.rho_NFW_0_lst*self.halo.rho_ns_0_lst*\\\n",
    "                                            self.halo.R_NFW_0_lst**3*4.*np.pi*density_integral/self.m_1/self.m_2\n",
    "        self.PBHNS_Rate_per_halo = PBHNS_Rate_per_halo.to(1./u.year)\n",
    "\n",
    "\n",
    "        rate_per_halo_dictionary = {\"PBHPBH_Rate_per_halo\":self.PBHPBH_Rate_per_halo, \n",
    "                                    \"PBHPBH_Rate_per_halo_anal\":self.PBHPBH_Rate_per_halo_anal, \n",
    "                                    \"PBHNS_Rate_per_halo\":self.PBHNS_Rate_per_halo}\n",
    "\n",
    "        return rate_per_halo_dictionary\n",
    "        \n",
    "\n",
    "    def integrated_rates(self, M_c_lst):\n",
    "\n",
    "        rates_per_halo = self.rates_per_halo()\n",
    "\n",
    "        PBHPBH_rate_lst = np.zeros(len(M_c_lst))\n",
    "        PBHNS_rate_lst = np.zeros(len(M_c_lst))\n",
    "\n",
    "        halo_mass_function = mass_function.massFunction(self.halo.M_halo.value, 0., mdef = '200c', model = 'tinker08', q_out = 'dndlnM')\n",
    "\n",
    "        for indx, val in enumerate(M_c_lst):\n",
    "            PBHPBH_rate_y = ((1./0.7**3)*self.PBHPBH_Rate_per_halo.value*1e9*halo_mass_function)[self.halo.M_halo.value > val]\n",
    "            PBHPBH_rate_x = (np.log(self.halo.M_halo.value))[self.halo.M_halo.value > val]\n",
    "    \n",
    "            PBHNS_rate_y = ((1./0.7**3)*self.PBHNS_Rate_per_halo.value*1e9*halo_mass_function)[self.halo.M_halo.value > val]\n",
    "            PBHNS_rate_x = (np.log(self.halo.M_halo.value))[self.halo.M_halo.value > val]\n",
    "\n",
    "            PBHPBH_rate_lst[indx] = np.trapz(PBHPBH_rate_y, PBHPBH_rate_x)\n",
    "            PBHNS_rate_lst[indx] = np.trapz(PBHNS_rate_y, PBHNS_rate_x)\n",
    "\n",
    "        return {\"halo_mass_function\":halo_mass_function, \"PBHPBH_rate_lst\":PBHPBH_rate_lst, \"PBHNS_rate_lst\":PBHNS_rate_lst}\n",
    "\n",
    "        \n",
    "\n",
    "    \n",
    "class spike:\n",
    "    \n",
    "    def __init__(self, halo, gamma):\n",
    "        self.halo = halo\n",
    "\n",
    "\n",
    "        a = 8.12\n",
    "        b = 4.24\n",
    "\n",
    "        alpha_gamma_interp = np.array([0.00733, 0.120, 0.140, 0.142, 0.135, 0.122, 0.103, 0.0818, 0.017])\n",
    "        gamma_interp = np.array([0.05, 0.2, 0.4,0.6, 0.8, 1.0, 1.2, 1.4, 2.])\n",
    "        alpha_gamma_interpolation_function = interpolate.interp1d(gamma_interp, alpha_gamma_interp)\n",
    "        \n",
    "        if gamma <= min(gamma_interp) or gamma > max(gamma_interp):\n",
    "            print(\"ERROR gamma = %5.3f is not supported.\" % gamma)\n",
    "        else:\n",
    "            self.alpha_gamma = alpha_gamma_interpolation_function(gamma)\n",
    "        \n",
    "        reference_vel = 200*u.km/u.s\n",
    "        self.M_SMBH = (10**a*(self.halo.v_dm_lst/reference_vel)**b)*u.Msun\n",
    "    \n",
    "        self.R_schw = 2.*const.G*self.M_SMBH/const.c**2\n",
    "        self.R_spike = self.alpha_gamma*self.halo.R_NFW_0_lst*(self.M_SMBH/self.halo.rho_NFW_0_lst/self.halo.R_NFW_0_lst**3)**(1./(3. - gamma))\n",
    "        \n",
    "        self.gamma_spike = (9. - 2.*gamma)/(4. - gamma)\n",
    "        self.rho_spike_0 = self.halo.rho_NFW_0_lst*(self.R_spike/self.halo.R_NFW_0_lst)**(-gamma)\n",
    "    \n",
    "\n",
    "\n",
    "    def spike_properties(self):\n",
    "        \n",
    "        spike_dictionary = {\"M_SMBH\":self.M_SMBH,\n",
    "                            \"R_spike\":self.R_spike, \n",
    "                            \"R_schw\":self.R_schw, \n",
    "                            \"rho_spike_0\":self.rho_spike_0, \n",
    "                            \"alpha_gamma\":self.alpha_gamma}\n",
    "        \n",
    "        return spike_dictionary\n",
    "\n",
    "    def spike_profiles(self):\n",
    "        '''\n",
    "            Returns the spike profiles without the rho_spike_0 prefactor and for all halos \n",
    "        '''\n",
    "        ratio = (self.R_schw/self.R_spike).to(u.m**0)\n",
    "        length = len(ratio)\n",
    "\n",
    "        x_lst = np.geomspace(4.*ratio, np.ones(length), 10000).T\n",
    "        print(np.shape(x_lst))\n",
    "\n",
    "        spike_profiles = (1. - 4.*ratio.reshape(length, 1)/x_lst)**3*(1./x_lst)**self.gamma_spike\n",
    "\n",
    "        return {\"x_list\":x_lst, \"spike_profiles\":spike_profiles}\n",
    "\n"
   ],
   "outputs": [],
   "metadata": {}
  },
  {
   "cell_type": "code",
   "execution_count": 118,
   "source": [
    "M_halo_lst = np.geomspace(1e3, 1e15, 1000)*(0.7)*u.Msun # Halo masses in M_sun/h units\n",
    "\n",
    "m_1 = 30.*u.Msun\n",
    "m_2 = 30.*u.Msun\n",
    "M = m_1 + m_2\n",
    "eta = m_1*m_2/M**2\n",
    "binary_mass_params = {\"m_1\":m_1, \"m_2\":m_2, \"M\":M, \"eta\":eta}\n",
    "\n",
    "R_ns_over_R_NFW = 0.1\n",
    "\n",
    "NFW_halo = halo(M_halo_lst, R_ns_over_R_NFW)\n",
    "merger_rates = rates(NFW_halo, binary_mass_params)\n",
    "\n",
    "\n",
    "\n",
    "\n",
    "halo_properties = NFW_halo.halo_properties()\n",
    "\n",
    "print(\"Halo propoeries: \", halo_properties.keys())\n",
    "\n",
    "C_lst = halo_properties[\"Concentration\"]\n",
    "R_NFW_0_lst = halo_properties[\"R_NFW_0\"]\n",
    "R_vir_lst = halo_properties[\"R_virial\"]\n",
    "N_ns_lst = halo_properties[\"N_ns\"]\n",
    "#print(N_ns_lst)\n",
    "NFW_profiles = halo_properties[\"NFW_profiles\"]\n",
    "ns_profiles = halo_properties[\"ns_profiles\"]\n",
    "x_lst = halo_properties[\"x_lst\"]\n",
    "rho_NFW_0_lst = halo_properties[\"rho_NFW_0\"]\n",
    "rho_ns_0_lst = halo_properties[\"rho_ns_0\"]\n",
    "M_star_lst = halo_properties[\"M_star\"]\n",
    "\n",
    "R_ns_0_lst = R_ns_over_R_NFW*R_NFW_0_lst\n",
    "\n",
    "\n",
    "cross_section_properties = merger_rates.cross_section()\n",
    "print(\"Cross-section properties: \", cross_section_properties.keys())\n",
    "v_vir_lst = cross_section_properties[\"v_vir_lst\"]\n",
    "v_dm_lst = cross_section_properties[\"v_dm_lst\"] \n",
    "sigma_v_avg = cross_section_properties[\"sigma_v_avg\"]\n",
    "sigma_reference_200 = cross_section_properties[\"sigma_reference_200\"]\n",
    "\n",
    "\n",
    "rates_per_halo = merger_rates.rates_per_halo()\n",
    "print(\"Per-halo rates: \", rates_per_halo.keys())\n",
    "PBHPBH_Rate_per_halo = rates_per_halo[\"PBHPBH_Rate_per_halo\"]\n",
    "PBHPBH_Rate_per_halo_anal = rates_per_halo[\"PBHPBH_Rate_per_halo_anal\"]\n",
    "PBHNS_Rate_per_halo = rates_per_halo[\"PBHNS_Rate_per_halo\"]\n",
    "\n",
    "\n",
    "M_c_lst = np.geomspace(1e3, 1e14, 10) \n",
    "integarted_rates = merger_rates.integrated_rates(M_c_lst)\n",
    "print(\"Integrated rates: \", integarted_rates.keys())\n",
    "halo_mass_function = integarted_rates[\"halo_mass_function\"]\n",
    "PBHPBH_rate_lst = integarted_rates[\"PBHPBH_rate_lst\"]\n",
    "PBHNS_rate_lst = integarted_rates[\"PBHNS_rate_lst\"]\n",
    "\n",
    "\n",
    "\n",
    "\n"
   ],
   "outputs": [
    {
     "output_type": "stream",
     "name": "stderr",
     "text": [
      "/opt/anaconda3/lib/python3.7/site-packages/ipykernel_launcher.py:130: RuntimeWarning: overflow encountered in exp\n"
     ]
    },
    {
     "output_type": "stream",
     "name": "stdout",
     "text": [
      "Halo propoeries:  dict_keys(['Concentration', 'rho_NFW_0', 'R_NFW_0', 'R_virial', 'N_ns', 'rho_ns_0', 'x_lst', 'NFW_profiles', 'ns_profiles', 'M_star'])\n",
      "Cross-section properties:  dict_keys(['v_vir_lst', 'v_dm_lst', 'sigma_v_avg', 'sigma_reference_200'])\n",
      "Per-halo rates:  dict_keys(['PBHPBH_Rate_per_halo', 'PBHPBH_Rate_per_halo_anal', 'PBHNS_Rate_per_halo'])\n",
      "Integrated rates:  dict_keys(['halo_mass_function', 'PBHPBH_rate_lst', 'PBHNS_rate_lst'])\n"
     ]
    }
   ],
   "metadata": {}
  },
  {
   "cell_type": "code",
   "execution_count": 119,
   "source": [
    "#C_lst_analytical = 4.67*(M_halo_lst/1e14)**(-0.11)\n",
    "\n",
    "\n",
    "fig = plt.figure()\n",
    "ax = fig.gca()\n",
    "\n",
    "ax.plot(M_halo_lst, C_lst, c = \"k\")\n",
    "#ax.plot(M_halo_lst, C_lst_analytical)\n",
    "\n",
    "ax.set_xscale(\"log\")\n",
    "ax.set_yscale(\"log\")\n",
    "\n",
    "ax.set_xlabel(r\"$M_\\mathrm{h}[M_\\mathrm{Sun}]$\")\n",
    "ax.set_ylabel(r\"$C[M_\\mathrm{h}]$\")\n",
    "\n",
    "ax.set_xlim([min(M_halo_lst.value), max(M_halo_lst.value)])\n",
    "\n",
    "\n",
    "fig = plt.figure()\n",
    "ax = fig.gca()\n",
    "\n",
    "ax.plot(M_halo_lst, R_NFW_0_lst, label = r\"$R_\\mathrm{NFW}^0 [\\mathrm{kpc}]$\")\n",
    "ax.plot(M_halo_lst, R_vir_lst, label = r\"$R_\\mathrm{vir} [\\mathrm{kpc}]$\")\n",
    "\n",
    "ax.plot(M_halo_lst, R_ns_0_lst, label = r\"$R_\\mathrm{ns}^0 [\\mathrm{kpc}]$\")\n",
    "ax.plot(M_halo_lst, N_ns_lst, label = r\"$N_\\mathrm{ns}$\")\n",
    "\n",
    "ax.plot(M_halo_lst, rho_NFW_0_lst, label = r\"$\\rho^{(0)}_\\mathrm{NFW}$\")\n",
    "ax.plot(M_halo_lst, rho_ns_0_lst, label = r\"$\\rho^{(0)}_\\mathrm{ns}$\")\n",
    "\n",
    "\n",
    "ax.set_xscale(\"log\")\n",
    "ax.set_yscale(\"log\")\n",
    "\n",
    "\n",
    "ax.set_xlim([min(M_halo_lst.value), max(M_halo_lst.value)])\n",
    "ax.legend()\n",
    "\n",
    "ax.set_xlabel(r\"$M_\\mathrm{h}[M_\\mathrm{Sun}]$\")\n",
    "\n",
    "\n",
    "\n",
    "fig = plt.figure()\n",
    "ax = fig.gca()\n",
    "\n",
    "for indx, x_lst_tmp in enumerate(x_lst):\n",
    "    if indx%40 == 0:\n",
    "        ax.plot(x_lst_tmp, rho_NFW_0_lst[indx]*NFW_profiles[indx], c = \"k\", alpha = 1. - indx/len(x_lst))\n",
    "        \n",
    "        ax.plot(x_lst_tmp, rho_ns_0_lst[indx]*ns_profiles[indx], c = \"darkred\", alpha = 1. - indx/len(x_lst))\n",
    "\n",
    "\n",
    "\n",
    "ax.set_xscale(\"log\")\n",
    "ax.set_yscale(\"log\")\n",
    "\n",
    "ax.set_xlim([np.min(x_lst), np.max(x_lst)])\n",
    "ax.set_ylim([1e-4, 1e13])\n",
    "\n",
    "\n",
    "ax.set_xlabel(r\"$r/R_\\mathrm{NFW}^0$\")\n",
    "ax.set_ylabel(r\"$\\rho [M_\\mathrm{Sun}/\\mathrm{kpc}^3]$\")"
   ],
   "outputs": [
    {
     "output_type": "display_data",
     "data": {
      "text/plain": [
       "FigureCanvasNbAgg()"
      ],
      "application/vnd.jupyter.widget-view+json": {
       "version_major": 2,
       "version_minor": 0,
       "model_id": "7d31449009224dcf81b59f1e299ef2a4"
      }
     },
     "metadata": {}
    },
    {
     "output_type": "display_data",
     "data": {
      "text/plain": [
       "FigureCanvasNbAgg()"
      ],
      "application/vnd.jupyter.widget-view+json": {
       "version_major": 2,
       "version_minor": 0,
       "model_id": "6869b446902a4c829e8d828461589148"
      }
     },
     "metadata": {}
    },
    {
     "output_type": "display_data",
     "data": {
      "text/plain": [
       "FigureCanvasNbAgg()"
      ],
      "application/vnd.jupyter.widget-view+json": {
       "version_major": 2,
       "version_minor": 0,
       "model_id": "0033302bdeef4c4db660424030de844c"
      }
     },
     "metadata": {}
    },
    {
     "output_type": "execute_result",
     "data": {
      "text/plain": [
       "Text(0, 0.5, '$\\\\rho [M_\\\\mathrm{Sun}/\\\\mathrm{kpc}^3]$')"
      ]
     },
     "metadata": {},
     "execution_count": 119
    }
   ],
   "metadata": {}
  },
  {
   "cell_type": "code",
   "execution_count": 120,
   "source": [
    "gamma = 2.\n",
    "DM_spike = spike(NFW_halo, gamma)\n",
    "\n",
    "spike_properties = DM_spike.spike_properties()\n",
    "print(\"Spike properties: \", spike_properties.keys())\n",
    "M_SMBH_lst = spike_properties[\"M_SMBH\"].to(u.M_sun)\n",
    "rho_spike_0_lst = spike_properties[\"rho_spike_0\"].to(u.M_sun/u.kpc**3)\n",
    "R_spike_0_lst = spike_properties[\"R_spike\"].to(u.pc)\n",
    "\n",
    "\n",
    "spike_profiles = DM_spike.spike_profiles()\n",
    "x_lst_spike = spike_profiles[\"x_list\"]\n",
    "r_lst_spike = spike_profiles[\"x_list\"]*R_spike_0_lst.reshape(len(R_spike_0_lst), 1)\n",
    "spike_profiles = spike_profiles[\"spike_profiles\"]\n",
    "\n",
    "fig = plt.figure()\n",
    "ax = fig.gca()\n",
    "\n",
    "for indx, r_lst_spike_tmp in enumerate(r_lst_spike):\n",
    "    if indx%40 == 0:\n",
    "        ax.plot(r_lst_spike_tmp, rho_spike_0_lst[indx]*spike_profiles[indx], c = \"k\", alpha = 1. - indx/len(r_lst_spike))\n",
    "\n",
    "\n",
    "ax.set_xscale(\"log\")\n",
    "ax.set_yscale(\"log\")\n",
    "\n",
    "#ax.set_xlim([np.min(x_lst_spike), np.max(x_lst_spike)])\n",
    "ax.set_ylim([1e10, 1e55])\n",
    "\n",
    "ax.set_xlabel(r\"$r [\\mathrm{pc}]$\")\n",
    "ax.set_ylabel(r\"$\\rho_\\mathrm{spike} [M_\\mathrm{Sun}/\\mathrm{kpc}^3]$\")"
   ],
   "outputs": [
    {
     "output_type": "stream",
     "name": "stdout",
     "text": [
      "Spike properties:  dict_keys(['M_SMBH', 'R_spike', 'R_schw', 'rho_spike_0', 'alpha_gamma'])\n",
      "(1000, 10000)\n"
     ]
    },
    {
     "output_type": "display_data",
     "data": {
      "text/plain": [
       "FigureCanvasNbAgg()"
      ],
      "application/vnd.jupyter.widget-view+json": {
       "version_major": 2,
       "version_minor": 0,
       "model_id": "8873f1f516914628b2a1814688e1091b"
      }
     },
     "metadata": {}
    },
    {
     "output_type": "execute_result",
     "data": {
      "text/plain": [
       "Text(0, 0.5, '$\\\\rho_\\\\mathrm{spike} [M_\\\\mathrm{Sun}/\\\\mathrm{kpc}^3]$')"
      ]
     },
     "metadata": {},
     "execution_count": 120
    }
   ],
   "metadata": {}
  },
  {
   "cell_type": "code",
   "execution_count": 121,
   "source": [
    "M_pbh = 1.*u.M_sun\n",
    "\n",
    "\n",
    "ref_velo = 200*u.km/u.s\n",
    "velo_prefac_tmp = (const.G*M_SMBH_lst/R_spike_0_lst)**(1./2.)/ref_velo\n",
    "velo_prefac = velo_prefac_tmp**(-11./7.)*ref_velo\n",
    "\n",
    "sigma_v_prefac = 1.4*1e-14*(M_pbh/30./u.M_sun)**2*velo_prefac*u.pc**2\n",
    "\n",
    "\n",
    "### PBH-PBH\n",
    "integral = np.trapz(spike_profiles**2*x_lst_spike**2*x_lst_spike**(11./14.), x_lst_spike, axis = 1)\n",
    "\n",
    "\n",
    "\n",
    "radius_prefac = 4.*np.pi*0.5*R_spike_0_lst**3*rho_spike_0_lst**2/M_pbh**2\n",
    "\n",
    "integral_prefac = (sigma_v_prefac*radius_prefac).to(1./u.yr)\n",
    "N_spike_PBH_PBH = integral_prefac*integral\n",
    "\n",
    "### PBH-NS\n",
    "ns_profiles = NFW_halo.NS_tilde(x_lst_spike, np.array([R_spike_0_lst, R_ns_0_lst]))\n",
    "integral = np.trapz(spike_profiles*ns_profiles*x_lst_spike**2*x_lst_spike**(11./14.), x_lst_spike, axis = 1)\n",
    "\n",
    "radius_prefac = 4.*np.pi*0.5*R_spike_0_lst**3*rho_spike_0_lst*rho_ns_0_lst/M_pbh**2\n",
    "\n",
    "integral_prefac = (sigma_v_prefac*radius_prefac).to(1./u.yr)\n",
    "N_spike_PBH_NS = integral_prefac*integral\n",
    "\n",
    "\n",
    "\n",
    "\n",
    "fig = plt.figure()\n",
    "ax = fig.gca()\n",
    "\n",
    "ax.plot(M_SMBH_lst.value, N_spike_PBH_PBH, label = r\"PBH-PBH, $f_\\mathrm{PBH} = 1$\", c = \"k\", ls = \"--\")\n",
    "ax.plot(M_SMBH_lst.value, 1e-6*N_spike_PBH_PBH, label = r\"PBH-PBH, $f_\\mathrm{PBH} = 10^{-3}$\", c = \"k\")\n",
    "\n",
    "ax.plot(M_SMBH_lst.value, N_spike_PBH_NS, label = r\"PBH-NS, $f_\\mathrm{PBH} = 1$\", c = \"darkred\", ls = \"--\")\n",
    "ax.plot(M_SMBH_lst.value, 1e-3*N_spike_PBH_NS, label = r\"PBH-NS, $f_\\mathrm{PBH} = 10^{-3}$\", c = \"darkred\")\n",
    "\n",
    "\n",
    "\n",
    "ax.set_xscale(\"log\")\n",
    "ax.set_yscale(\"log\")\n",
    "\n",
    "ax.legend(ncol = 1, loc = 4)\n",
    "\n",
    "ax.set_xlim([1e6, 1e8])\n",
    "#ax.set_ylim([1e-16, 1e-11])\n",
    "\n",
    "ax.set_xlabel(r\"$M_\\mathrm{SMBH}[M_\\mathrm{Sun}]$\")\n",
    "ax.set_ylabel(r\"Merger rate per spike $N_\\mathrm{sp}[1/\\mathrm{yr}]$\")\n",
    "\n",
    "plt.title(r\"$\\gamma = 2$\")\n",
    "\n",
    "ax.axhline([1e-2], c = \"gray\", ls = \"--\")\n",
    "ax.axhline([1e-4], c = \"gray\", ls = \"--\")\n",
    "\n"
   ],
   "outputs": [
    {
     "output_type": "display_data",
     "data": {
      "text/plain": [
       "FigureCanvasNbAgg()"
      ],
      "application/vnd.jupyter.widget-view+json": {
       "version_major": 2,
       "version_minor": 0,
       "model_id": "702dd36f5b0a45f4940e2e02dc4a5cfd"
      }
     },
     "metadata": {}
    },
    {
     "output_type": "execute_result",
     "data": {
      "text/plain": [
       "<matplotlib.lines.Line2D at 0x7fce27b20110>"
      ]
     },
     "metadata": {},
     "execution_count": 121
    }
   ],
   "metadata": {}
  },
  {
   "cell_type": "code",
   "execution_count": 122,
   "source": [
    "print(max(R_spike_0_lst/R_NFW_0_lst))\n",
    "print(max(R_spike_0_lst/R_ns_0_lst))"
   ],
   "outputs": [
    {
     "output_type": "stream",
     "name": "stdout",
     "text": [
      "0.020482784536551942 pc / kpc\n",
      "0.20482784536551943 pc / kpc\n"
     ]
    }
   ],
   "metadata": {}
  },
  {
   "cell_type": "code",
   "execution_count": 123,
   "source": [
    "fig = plt.figure()\n",
    "ax = fig.gca()\n",
    "\n",
    "\n",
    "ax.plot(M_halo_lst, M_star_lst/M_halo_lst, c = \"black\", ls = \"-\")\n",
    "\n",
    "ax.plot(M_halo_lst, 1e-2*M_halo_lst/M_halo_lst, c = \"gray\", ls = \"--\")\n",
    "\n",
    "\n",
    "\n",
    "ax.set_xscale(\"log\")\n",
    "ax.set_yscale(\"log\")\n",
    "\n",
    "ax.set_xlim([min(M_halo_lst.value), max(M_halo_lst.value)])\n",
    "\n",
    "ax.set_ylabel(r\"$M_\\mathrm{star}[M_\\mathrm{Sun}/h]/M_\\mathrm{h}[M_\\mathrm{Sun}/h]$\")\n",
    "ax.set_xlabel(r\"$M_\\mathrm{h}[M_\\mathrm{Sun}/h]$\")"
   ],
   "outputs": [
    {
     "output_type": "display_data",
     "data": {
      "text/plain": [
       "FigureCanvasNbAgg()"
      ],
      "application/vnd.jupyter.widget-view+json": {
       "version_major": 2,
       "version_minor": 0,
       "model_id": "a791b36e557a4ee78660d9387be1690e"
      }
     },
     "metadata": {}
    },
    {
     "output_type": "execute_result",
     "data": {
      "text/plain": [
       "Text(0.5, 0, '$M_\\\\mathrm{h}[M_\\\\mathrm{Sun}/h]$')"
      ]
     },
     "metadata": {},
     "execution_count": 123
    }
   ],
   "metadata": {}
  },
  {
   "cell_type": "code",
   "execution_count": 124,
   "source": [
    "sigma_analytical = 100*(M_halo_lst/1e12)**(1./3.)\n",
    "\n",
    "\n",
    "print(\"sigma at v = 200 km/s: \", sigma_reference_200)\n",
    "\n",
    "\n",
    "fig = plt.figure()\n",
    "ax = fig.gca()\n",
    "\n",
    "ax.plot(M_halo_lst, v_vir_lst, label = r\"$v_\\mathrm{vir}$\", c = \"k\")\n",
    "ax.plot(M_halo_lst, v_dm_lst, label = r\"$v_\\mathrm{dm}$\", c = \"red\")\n",
    "ax.plot(M_halo_lst, sigma_analytical, label = r\"$v_\\mathrm{dm - anal}$\", c = \"lightblue\")\n",
    "\n",
    "\n",
    "ax.set_xscale(\"log\")\n",
    "ax.set_yscale(\"log\")\n",
    "ax.legend()\n",
    "\n",
    "ax.set_xlabel(r\"$M_\\mathrm{h}[M_\\mathrm{Sun}/h]$\")\n",
    "ax.set_xlim([min(M_halo_lst.value), max(M_halo_lst.value)])\n"
   ],
   "outputs": [
    {
     "output_type": "stream",
     "name": "stdout",
     "text": [
      "sigma at v = 200 km/s:  1.369606200140508e-20 kpc2\n"
     ]
    },
    {
     "output_type": "display_data",
     "data": {
      "text/plain": [
       "FigureCanvasNbAgg()"
      ],
      "application/vnd.jupyter.widget-view+json": {
       "version_major": 2,
       "version_minor": 0,
       "model_id": "c06a31a6578042369524e2f11540133c"
      }
     },
     "metadata": {}
    },
    {
     "output_type": "execute_result",
     "data": {
      "text/plain": [
       "(700.0, 700000000000000.0)"
      ]
     },
     "metadata": {},
     "execution_count": 124
    }
   ],
   "metadata": {}
  },
  {
   "cell_type": "code",
   "execution_count": 125,
   "source": [
    "\n",
    "\n",
    "\n",
    "\n",
    "\n",
    "fig = plt.figure()\n",
    "ax = fig.gca()\n",
    "\n",
    "ax.plot(M_halo_lst, PBHPBH_Rate_per_halo, label = r\"PBH-PBH, $f_\\mathrm{PBH} = 1$\", c = \"k\", alpha = 1)\n",
    "ax.plot(M_halo_lst, 1e-6*PBHPBH_Rate_per_halo, label = r\"PBH-PBH, $f_\\mathrm{PBH} = 1e-3$\", c = \"k\", alpha = 0.4)\n",
    "\n",
    "\n",
    "ax.plot(M_halo_lst, PBHNS_Rate_per_halo, label = r\"PBH-NS, $f_\\mathrm{PBH} = 1$\", c = \"red\", alpha = 1)\n",
    "ax.plot(M_halo_lst, 1e-3*PBHNS_Rate_per_halo, label = r\"PBH-NS, $f_\\mathrm{PBH} = 1e-3$\", c = \"red\", alpha = 0.4)\n",
    "\n",
    "\n",
    "ax.set_xscale(\"log\")\n",
    "ax.set_yscale(\"log\")\n",
    "\n",
    "ax.legend(ncol = 2)\n",
    "\n",
    "ax.set_xlim([min(M_halo_lst.value), max(M_halo_lst.value)])\n",
    "#ax.set_ylim([1e-16, 1e-11])\n",
    "\n",
    "ax.set_xlabel(r\"$M_\\mathrm{h}[M_\\mathrm{Sun}/h]$\")\n",
    "ax.set_ylabel(r\"Merger rate per halo $\\mathcal{R}[1/\\mathrm{yr}]$\")\n",
    "\n",
    "\n",
    "\n",
    "fig = plt.figure()\n",
    "ax = fig.gca()\n",
    "\n",
    "\n",
    "#ax.plot(M_halo_lst.value*0.7, PBHPBH_Rate_per_halo.value/PBHPBH_Rate_per_halo_anal.value)\n",
    "ax.plot(M_halo_lst.value, PBHPBH_Rate_per_halo)\n",
    "\n",
    "ax.plot(M_halo_lst, PBHPBH_Rate_per_halo_anal, ls = \"--\")\n",
    "\n",
    "#\n",
    "\n",
    "ax.set_xscale(\"log\")\n",
    "ax.set_yscale(\"log\")\n",
    "\n",
    "\n",
    "\n",
    "ax.set_xlim([min(M_halo_lst.value), max(M_halo_lst.value)])\n",
    "#ax.set_ylim([1e-16, 1e-11])\n",
    "\n",
    "\n",
    "ax.set_xlabel(r\"$M_\\mathrm{h}[M_\\mathrm{Sun}/h]$\")\n",
    "ax.set_ylabel(r\"$\\mathcal{R}[1/\\mathrm{yr}]$\")\n",
    "\n"
   ],
   "outputs": [
    {
     "output_type": "display_data",
     "data": {
      "text/plain": [
       "FigureCanvasNbAgg()"
      ],
      "application/vnd.jupyter.widget-view+json": {
       "version_major": 2,
       "version_minor": 0,
       "model_id": "5d2ab3ac5e3044a58449dd2b618ccdd5"
      }
     },
     "metadata": {}
    },
    {
     "output_type": "display_data",
     "data": {
      "text/plain": [
       "FigureCanvasNbAgg()"
      ],
      "application/vnd.jupyter.widget-view+json": {
       "version_major": 2,
       "version_minor": 0,
       "model_id": "b92f384477c6409695d521e0a392667d"
      }
     },
     "metadata": {}
    },
    {
     "output_type": "execute_result",
     "data": {
      "text/plain": [
       "Text(0, 0.5, '$\\\\mathcal{R}[1/\\\\mathrm{yr}]$')"
      ]
     },
     "metadata": {},
     "execution_count": 125
    }
   ],
   "metadata": {
    "scrolled": false
   }
  },
  {
   "cell_type": "code",
   "execution_count": 126,
   "source": [
    "fig = plt.figure()\n",
    "ax = fig.gca()\n",
    "\n",
    "ax.scatter(M_c_lst, PBHPBH_rate_lst, c = \"k\")\n",
    "ax.scatter(M_c_lst, 1e1*PBHNS_rate_lst, c = \"red\")\n",
    "\n",
    "ax.plot(M_c_lst, PBHPBH_rate_lst, label = \"PBH-PBH\", c = \"k\")\n",
    "ax.plot(M_c_lst, 1e1*PBHNS_rate_lst, label = \"PBH-NS\", c = \"red\")\n",
    "\n",
    "\n",
    "ax.set_xscale(\"log\")\n",
    "ax.set_yscale(\"log\")\n",
    "\n",
    "\n",
    "ax.legend()\n",
    "\n",
    "\n",
    "ax.set_xlabel(r\"$M_\\mathrm{c}[M_\\mathrm{Sun}/h]$\")\n",
    "ax.set_ylabel(r\"$\\mathrm{Rate}[\\mathrm{yr}^{-1}\\mathrm{Gpc}^{-3}]$\")\n",
    "\n",
    "\n",
    "ax.axhline([1.], ls = \"--\", c = \"gray\")\n",
    "ax.axhline([.1], ls = \"--\", c = \"gray\")\n",
    "ax.axhline([.01], ls = \"--\", c = \"gray\")\n",
    "ax.axhline([.0001], ls = \"--\", c = \"gray\")\n",
    "\n",
    "ax.axhline([1e-5], ls = \"--\", c = \"gray\")"
   ],
   "outputs": [
    {
     "output_type": "display_data",
     "data": {
      "text/plain": [
       "FigureCanvasNbAgg()"
      ],
      "application/vnd.jupyter.widget-view+json": {
       "version_major": 2,
       "version_minor": 0,
       "model_id": "fededbc7a4ac4892880076f216b129dc"
      }
     },
     "metadata": {}
    },
    {
     "output_type": "execute_result",
     "data": {
      "text/plain": [
       "<matplotlib.lines.Line2D at 0x7fcde84addd0>"
      ]
     },
     "metadata": {},
     "execution_count": 126
    }
   ],
   "metadata": {}
  },
  {
   "cell_type": "code",
   "execution_count": 127,
   "source": [
    "fig = plt.figure()\n",
    "ax = fig.gca()\n",
    "\n",
    "ax.plot(M_halo_lst.value, halo_mass_function, c = \"k\")\n",
    "\n",
    "\n",
    "\n",
    "ax.set_xscale(\"log\")\n",
    "ax.set_yscale(\"log\")\n",
    "\n",
    "\n",
    "\n",
    "ax.set_xlabel(r\"$M_\\mathrm{c}[M_\\mathrm{Sun}/h]$\")\n",
    "ax.set_ylabel(r\"$\\mathrm{d}n/\\mathrm{d}ln(M)$\")\n",
    "\n",
    "ax.set_xlim([min(M_halo_lst.value), max(M_halo_lst.value)])\n",
    "\n",
    "\n"
   ],
   "outputs": [
    {
     "output_type": "display_data",
     "data": {
      "text/plain": [
       "FigureCanvasNbAgg()"
      ],
      "application/vnd.jupyter.widget-view+json": {
       "version_major": 2,
       "version_minor": 0,
       "model_id": "33967d859e5447cc9e1eeac5b21c7a97"
      }
     },
     "metadata": {}
    },
    {
     "output_type": "execute_result",
     "data": {
      "text/plain": [
       "(700.0, 700000000000000.0)"
      ]
     },
     "metadata": {},
     "execution_count": 127
    }
   ],
   "metadata": {}
  },
  {
   "cell_type": "code",
   "execution_count": 128,
   "source": [
    "fig = plt.figure()\n",
    "ax = fig.gca()\n",
    "\n",
    "ax.plot(M_halo_lst.value, (1./0.7**3)*PBHPBH_Rate_per_halo.value*1e9*halo_mass_function, c = \"k\")\n",
    "ax.plot(M_halo_lst.value, (1./0.7**3)*PBHNS_Rate_per_halo.value*1e9*halo_mass_function, c = \"red\")\n",
    "\n",
    "\n",
    "#\n",
    "\n",
    "ax.set_xscale(\"log\")\n",
    "ax.set_yscale(\"log\")\n",
    "\n",
    "\n",
    "\n",
    "ax.set_xlim([min(M_halo_lst.value), max(M_halo_lst.value)])\n",
    "#ax.set_ylim([1e-8, 1e0])\n",
    "\n",
    "\n",
    "ax.set_xlabel(r\"$M_\\mathrm{h}[M_\\mathrm{Sun}/h]$\")\n",
    "ax.set_ylabel(r\"$\\frac{\\mathrm{d}n}{\\mathrm{d}\\ln M}\\mathcal{R}[\\mathrm{yr}^{-1}\\mathrm{Gpc}^{-3}]$\")\n",
    "\n",
    "\n",
    "\n"
   ],
   "outputs": [
    {
     "output_type": "display_data",
     "data": {
      "text/plain": [
       "FigureCanvasNbAgg()"
      ],
      "application/vnd.jupyter.widget-view+json": {
       "version_major": 2,
       "version_minor": 0,
       "model_id": "353b53178c804134acbadec7f5baf611"
      }
     },
     "metadata": {}
    },
    {
     "output_type": "execute_result",
     "data": {
      "text/plain": [
       "Text(0, 0.5, '$\\\\frac{\\\\mathrm{d}n}{\\\\mathrm{d}\\\\ln M}\\\\mathcal{R}[\\\\mathrm{yr}^{-1}\\\\mathrm{Gpc}^{-3}]$')"
      ]
     },
     "metadata": {},
     "execution_count": 128
    }
   ],
   "metadata": {}
  },
  {
   "cell_type": "code",
   "execution_count": 132,
   "source": [
    "M_halo_lst = np.geomspace(1e3, 1e15, 1000)*(0.7)*u.Msun # Halo masses in M_sun/h units\n",
    "M_c_lst = np.geomspace(1e3, 1e14, 10) \n",
    "\n",
    "m_1 = 30.*u.Msun\n",
    "m_2 = 30.*u.Msun\n",
    "M = m_1 + m_2\n",
    "eta = m_1*m_2/M**2\n",
    "binary_mass_params = {\"m_1\":m_1, \"m_2\":m_2, \"M\":M, \"eta\":eta}\n",
    "\n",
    "\n",
    "############################################################################################\n",
    "R_ns_over_R_NFW = 0.1\n",
    "NFW_halo = halo(M_halo_lst, R_ns_over_R_NFW)\n",
    "merger_rates = rates(NFW_halo, binary_mass_params)\n",
    "\n",
    "\n",
    "halo_properties = NFW_halo.halo_properties()\n",
    "rates_per_halo = merger_rates.rates_per_halo()\n",
    "integarted_rates = merger_rates.integrated_rates(M_c_lst)\n",
    "\n",
    "PBHPBH_Rate_per_halo_1 = rates_per_halo[\"PBHPBH_Rate_per_halo\"]\n",
    "PBHNS_Rate_per_halo_1 = rates_per_halo[\"PBHNS_Rate_per_halo\"]\n",
    "PBHPBH_rate_lst_1 = integarted_rates[\"PBHPBH_rate_lst\"]\n",
    "PBHNS_rate_lst_1 = integarted_rates[\"PBHNS_rate_lst\"]\n",
    "\n",
    "\n",
    "\n",
    "############################################################################################\n",
    "R_ns_over_R_NFW = 0.01\n",
    "NFW_halo = halo(M_halo_lst, R_ns_over_R_NFW)\n",
    "merger_rates = rates(NFW_halo, binary_mass_params)\n",
    "\n",
    "\n",
    "halo_properties = NFW_halo.halo_properties()\n",
    "rates_per_halo = merger_rates.rates_per_halo()\n",
    "integarted_rates = merger_rates.integrated_rates(M_c_lst)\n",
    "\n",
    "PBHPBH_Rate_per_halo_2 = rates_per_halo[\"PBHPBH_Rate_per_halo\"]\n",
    "PBHNS_Rate_per_halo_2 = rates_per_halo[\"PBHNS_Rate_per_halo\"]\n",
    "PBHPBH_rate_lst_2 = integarted_rates[\"PBHPBH_rate_lst\"]\n",
    "PBHNS_rate_lst_2 = integarted_rates[\"PBHNS_rate_lst\"]\n",
    "############################################################################################\n",
    "\n",
    "\n",
    "\n",
    "\n",
    "\n",
    "\n"
   ],
   "outputs": [
    {
     "output_type": "stream",
     "name": "stderr",
     "text": [
      "/opt/anaconda3/lib/python3.7/site-packages/ipykernel_launcher.py:130: RuntimeWarning: overflow encountered in exp\n"
     ]
    }
   ],
   "metadata": {}
  },
  {
   "cell_type": "code",
   "execution_count": 134,
   "source": [
    "\n",
    "fig = plt.figure()\n",
    "ax = fig.gca()\n",
    "\n",
    "\n",
    "\n",
    "ax.plot(M_halo_lst, PBHPBH_Rate_per_halo_1, label = r\"PBH-PBH, $f_\\mathrm{PBH} = 1$\", c = \"red\", ls = \"-\", zorder = 3)\n",
    "ax.plot(M_halo_lst, 1e-6*PBHPBH_Rate_per_halo_1, label = r\"PBH-PBH, $f_\\mathrm{PBH} = 10^{-3}$\", c = \"red\", ls = \"--\", zorder = 3)\n",
    "\n",
    "\n",
    "ax.plot(M_halo_lst, PBHNS_Rate_per_halo_1, label = r\"PBH-NS, $f_\\mathrm{PBH} = 1$\", c = \"k\", ls = \"-\")\n",
    "ax.plot(M_halo_lst, PBHNS_Rate_per_halo_2, c = \"k\", ls = \"-\")\n",
    "ax.plot(M_halo_lst, 1e-3*PBHNS_Rate_per_halo_1, label = r\"PBH-NS, $f_\\mathrm{PBH} = 10^{-3}$\", c = \"k\", ls = \"--\")\n",
    "ax.plot(M_halo_lst, 1e-3*PBHNS_Rate_per_halo_2, c = \"k\", ls = \"--\")\n",
    "\n",
    "#ax.fill_between(M_halo_lst, PBHNS_Rate_per_halo_1, PBHNS_Rate_per_halo_2, color = \"darkred\", alpha = 0.3)\n",
    "#ax.fill_between(M_halo_lst, 1e-3*PBHNS_Rate_per_halo_1, 1e-3*PBHNS_Rate_per_halo_2, color = \"darkred\", alpha = 0.3)\n",
    "\n",
    "ratio = (PBHNS_Rate_per_halo_2/PBHNS_Rate_per_halo_1)[0]\n",
    "gradient_resolution = 100\n",
    "for indx, scaling in enumerate(np.geomspace(1.1, ratio, gradient_resolution)):\n",
    "    tranparency = 0.6*(1. - indx/gradient_resolution)\n",
    "\n",
    "    #print(indx, tranparency)\n",
    "    ax.plot(M_halo_lst, scaling*PBHNS_Rate_per_halo_1, c = \"k\", ls = \"-\", lw = 0.365, alpha = tranparency)\n",
    "    ax.plot(M_halo_lst, scaling*1e-3*PBHNS_Rate_per_halo_1, c = \"k\", ls = \"-\", lw = 0.365, alpha = tranparency)\n",
    "\n",
    "\n",
    "ax.set_xscale(\"log\")\n",
    "ax.set_yscale(\"log\")\n",
    "\n",
    "\n",
    "\n",
    "ax.legend(ncol = 1)\n",
    "\n",
    "ax.set_xlim([min(M_halo_lst.value), max(M_halo_lst.value)])\n",
    "ax.set_ylim([1e-26, 1e-11])\n",
    "\n",
    "plt.axvspan(min(M_halo_lst.value), 1e6, color=\"lightblue\", alpha=0.5, zorder = 1)\n",
    "\n",
    "ax.set_xlabel(r\"$M_\\mathrm{h}[M_\\mathrm{Sun}/h]$\")\n",
    "ax.set_ylabel(r\"Merger rate per halo $\\mathcal{R}[1/\\mathrm{yr}]$\")\n",
    "\n",
    "\n",
    "plt.savefig(\"Figs/rates_per_halo.pdf\")\n"
   ],
   "outputs": [
    {
     "output_type": "display_data",
     "data": {
      "text/plain": [
       "FigureCanvasNbAgg()"
      ],
      "application/vnd.jupyter.widget-view+json": {
       "version_major": 2,
       "version_minor": 0,
       "model_id": "1442e4258e6e4e03bb87492c782ecce7"
      }
     },
     "metadata": {}
    },
    {
     "output_type": "stream",
     "name": "stderr",
     "text": [
      "/opt/anaconda3/lib/python3.7/site-packages/ipykernel_launcher.py:44: UserWarning: Creating legend with loc=\"best\" can be slow with large amounts of data.\n"
     ]
    }
   ],
   "metadata": {}
  },
  {
   "cell_type": "code",
   "execution_count": 135,
   "source": [
    "fig = plt.figure()\n",
    "ax = fig.gca()\n",
    "\n",
    "\n",
    "ax.plot(M_c_lst, PBHNS_rate_lst_1, label = r\"PBH-NS, $f_\\mathrm{PBH} = 1$\", c = \"k\", ls = \"-\")\n",
    "ax.plot(M_c_lst, PBHNS_rate_lst_2, c = \"k\", ls = \"-\")\n",
    "ax.plot(M_c_lst, 1e-3*PBHNS_rate_lst_1, label = r\"PBH-NS, $f_\\mathrm{PBH} = 10^{-3}$\", c = \"k\", ls = \"--\")\n",
    "ax.plot(M_c_lst, 1e-3*PBHNS_rate_lst_2, c = \"k\", ls = \"--\")\n",
    "\n",
    "ax.scatter(M_c_lst, PBHNS_rate_lst_1, color = \"k\")\n",
    "ax.scatter(M_c_lst, PBHNS_rate_lst_2, color = \"k\")\n",
    "ax.scatter(M_c_lst, 1e-3*PBHNS_rate_lst_1, color = \"k\")\n",
    "ax.scatter(M_c_lst, 1e-3*PBHNS_rate_lst_2, color = \"k\")\n",
    "\n",
    "\n",
    "ratio = (PBHNS_rate_lst_2/PBHNS_rate_lst_1)[0]\n",
    "gradient_resolution = 100\n",
    "for indx, scaling in enumerate(np.geomspace(1.1, ratio, gradient_resolution)):\n",
    "    tranparency = 0.6*(1. - indx/gradient_resolution)\n",
    "\n",
    "    ax.plot(M_c_lst, scaling*PBHNS_rate_lst_1, c = \"k\", ls = \"-\", lw = 0.365, alpha = tranparency)\n",
    "    ax.plot(M_c_lst, scaling*1e-3*PBHNS_rate_lst_1, c = \"k\", ls = \"-\", lw = 0.365, alpha = tranparency)\n",
    "\n",
    "\n",
    "\n",
    "\n",
    "ax.plot(M_c_lst, PBHPBH_rate_lst_1, label = r\"PBH-PBH, $f_\\mathrm{PBH} = 1$\", c = \"red\", ls = \"-\", zorder = 3)\n",
    "ax.scatter(M_c_lst, PBHPBH_rate_lst_1, color = \"red\", zorder = 3)\n",
    "ax.plot(M_c_lst, 1e-6*PBHPBH_rate_lst_1, label = r\"PBH-PBH, $f_\\mathrm{PBH} = 10^{-3}$\", c = \"red\", ls = \"--\", zorder = 3)\n",
    "ax.scatter(M_c_lst, 1e-6*PBHPBH_rate_lst_1, color = \"red\", zorder = 3)\n",
    "\n",
    "ax.set_xscale(\"log\")\n",
    "ax.set_yscale(\"log\")\n",
    "\n",
    "\n",
    "\n",
    "#ax.legend(ncol = 1)\n",
    "\n",
    "ax.set_xlim([min(M_halo_lst.value), 1.2*max(M_c_lst)])\n",
    "#ax.set_ylim([1e-26, 1e-11])\n",
    "\n",
    "plt.axvspan(min(M_halo_lst.value), 1e6, color=\"lightblue\", alpha=0.5, zorder = 1)\n",
    "\n",
    "ax.set_xlabel(r\"$M_\\mathrm{c}[M_\\mathrm{Sun}/h]$\")\n",
    "ax.set_ylabel(r\"$\\mathrm{Rate}[\\mathrm{yr}^{-1}\\mathrm{Gpc}^{-3}]$\")\n",
    "\n",
    "ax.axhline([1.], ls = \"--\", c = \"gray\")\n",
    "\n",
    "plt.savefig(\"Figs/total_rates.pdf\")"
   ],
   "outputs": [
    {
     "output_type": "display_data",
     "data": {
      "text/plain": [
       "FigureCanvasNbAgg()"
      ],
      "application/vnd.jupyter.widget-view+json": {
       "version_major": 2,
       "version_minor": 0,
       "model_id": "52ca528b2607474eac0f052f291b4559"
      }
     },
     "metadata": {}
    }
   ],
   "metadata": {}
  },
  {
   "cell_type": "code",
   "execution_count": null,
   "source": [
    "f_PBH = 1e-4\n",
    "\n",
    "velocity_amplification_factor = (f_PBH**(1./4.))**(-11./7.)\n",
    "volume_amplification_factor = f_PBH**(-1./2.)\n",
    "\n",
    "\n",
    "\n",
    "print(\"Velocity enhancement factor = {:.2e} \\n\".format(velocity_amplification_factor), \n",
    "      \"Volume enhancement factor = {:.2e} \\n\".format(volume_amplification_factor), \n",
    "      \"Total enhancement factor = {:.2e}\".format(velocity_amplification_factor*volume_amplification_factor))\n"
   ],
   "outputs": [],
   "metadata": {}
  },
  {
   "cell_type": "code",
   "execution_count": null,
   "source": [
    "\n",
    "factor_lst = np.geomspace(1e-4, 1., 10)\n",
    "#\n",
    "\n",
    "fig = plt.figure()\n",
    "ax = fig.gca()\n",
    "\n",
    "\n",
    "#for indx, val in enumerate(factor_lst):\n",
    "\n",
    "#    x_lst_test = np.geomspace(1e-5, val*C_lst, 10000).T\n",
    "    \n",
    "#    R_C_lst = val*R_NFW_0_lst\n",
    "#    R_ns_lst_test = R_NFW_0_lst\n",
    "\n",
    "#    density_integral = np.trapz(x_lst_test**2*NFW_tilde(x_lst_test)*NS_tilde(x_lst_test, np.array([R_C_lst, R_ns_lst_test])), x_lst_test, axis = 1)\n",
    "\n",
    "#    ax.plot(M_halo_lst.value, density_integral, c = \"black\")\n",
    "\n",
    "halo_index = 900\n",
    "x_lst_test = np.geomspace(1e-10, factor_lst*C_lst[halo_index], 100000).T    \n",
    "R_C_lst = np.ones(len(factor_lst))*R_NFW_0_lst[halo_index]\n",
    "\n",
    "\n",
    "R_ns_test = np.ones(len(factor_lst))*R_NFW_0_lst[halo_index]\n",
    "density_integral = np.trapz(x_lst_test**2*NFW_tilde(x_lst_test)*NS_tilde(x_lst_test, np.array([R_C_lst, R_ns_test])), x_lst_test, axis = 1)\n",
    "\n",
    "ax.plot(factor_lst, density_integral/density_integral[-1], c = \"black\")\n",
    "ax.scatter(factor_lst, density_integral/density_integral[-1], c = \"black\")\n",
    "\n",
    "\n",
    "R_ns_test = 1e-1*np.ones(len(factor_lst))*R_NFW_0_lst[halo_index]\n",
    "density_integral = np.trapz(x_lst_test**2*NFW_tilde(x_lst_test)*NS_tilde(x_lst_test, np.array([R_C_lst, R_ns_test])), x_lst_test, axis = 1)\n",
    "\n",
    "ax.plot(factor_lst, density_integral/density_integral[-1], c = \"red\")\n",
    "ax.scatter(factor_lst, density_integral/density_integral[-1], c = \"red\")\n",
    "\n",
    "\n",
    "\n",
    "R_ns_test = 1e-2*np.ones(len(factor_lst))*R_NFW_0_lst[halo_index]\n",
    "density_integral = np.trapz(x_lst_test**2*NFW_tilde(x_lst_test)*NS_tilde(x_lst_test, np.array([R_C_lst, R_ns_test])), x_lst_test, axis = 1)\n",
    "\n",
    "ax.plot(factor_lst, density_integral/density_integral[-1], c = \"green\")\n",
    "ax.scatter(factor_lst, density_integral/density_integral[-1], c = \"green\")\n",
    "\n",
    "\n",
    "ax.plot(factor_lst, 1e2*factor_lst**2, c = \"gray\")\n",
    "\n",
    "ax.set_xscale(\"log\")\n",
    "ax.set_yscale(\"log\")\n",
    "\n",
    "\n",
    "\n",
    "\n",
    "\n",
    "\n"
   ],
   "outputs": [],
   "metadata": {}
  },
  {
   "cell_type": "code",
   "execution_count": null,
   "source": [
    "H_0 = (cosmo.H0)*u.km/u.Mpc/u.s\n",
    "\n",
    "R_h_cube_prefac = 2.*const.G*1e8*const.M_sun/H_0**2/0.3/20**3\n",
    "R_h_prefac = (R_h_cube_prefac.to(u.pc**3))**(1/3)\n",
    "\n",
    "\n",
    "print(R_h_cube_prefac.to(u.pc**3))\n",
    "print(R_h_prefac)\n",
    "\n",
    "\n",
    "velo_sqr_prefac = 2.*const.G*1e8*const.M_sun/const.c**2/R_h_prefac\n",
    "velo_prefac = np.sqrt(velo_sqr_prefac)\n",
    "\n",
    "print(velo_sqr_prefac.to(u.m/u.m), velo_prefac.to(u.m/u.m))\n",
    "\n",
    "\n",
    "timescale_prefac = (H_0/const.c)*(const.c**4/const.G**2)*(1./9.)*(1./1e8/const.M_sun)**2*R_h_prefac**3*velo_prefac**3\n",
    "\n",
    "print(timescale_prefac.to(u.s/u.s))"
   ],
   "outputs": [],
   "metadata": {}
  },
  {
   "cell_type": "code",
   "execution_count": null,
   "source": [
    "m_PBH = 1.*const.M_sun\n",
    "m_SMBH = 1e6*const.M_sun\n",
    "\n",
    "mu = m_PBH*m_SMBH/(m_PBH + m_SMBH)\n",
    "M = m_PBH + m_SMBH\n",
    "\n",
    "C = -(96.*2./15.)*(const.G**3/const.c**5)*(1./H_0)*M**2*mu\n",
    "\n",
    "1./4./C.to(u.pc**4)\n",
    "\n"
   ],
   "outputs": [],
   "metadata": {}
  },
  {
   "cell_type": "code",
   "execution_count": null,
   "source": [
    "def f_elliptic(ecc):\n",
    "    return (1. + 73.*ecc**2/24. + 37.*ecc**4/96.)*(1. - ecc**2)**(-7./2.)\n",
    "\n",
    "one_minus_ecc_lst = np.geomspace(1e-9, 1., 1000)\n",
    "f_orbit_lst = f_elliptic(1. - one_minus_ecc_lst)\n",
    "\n",
    "fig = plt.figure()\n",
    "ax = fig.gca()\n",
    "\n",
    "\n",
    "\n",
    "ax.plot(one_minus_ecc_lst, f_orbit_lst)\n",
    "\n",
    "ax.set_yscale(\"log\")\n",
    "ax.set_xscale(\"log\")\n",
    "\n",
    "ax.set_xlabel(r\"$1 - e$\")\n",
    "ax.set_ylabel(r\"$f(e)$\")\n"
   ],
   "outputs": [],
   "metadata": {}
  },
  {
   "cell_type": "code",
   "execution_count": null,
   "source": [
    "\n",
    "\n",
    "\n",
    "class Person:\n",
    "  def __init__(self, fname, lname):\n",
    "    self.firstname = fname\n",
    "    self.lastname = lname\n",
    "\n",
    "  def printname(self):\n",
    "    print(self.firstname, self.lastname)\n",
    "    \n",
    "class Student(Person):\n",
    "  pass\n",
    "\n",
    "#Use the Person class to create an object, and then execute the printname method:\n",
    "\n",
    "x = Person(\"John\", \"Doe\")\n",
    "x.printname()\n",
    "\n",
    "\n",
    "x = Student(\"Mike\", \"Olsen\")\n",
    "x.printname()\n",
    "\n",
    "x.firstname"
   ],
   "outputs": [],
   "metadata": {}
  },
  {
   "cell_type": "code",
   "execution_count": null,
   "source": [
    "\n",
    "\n",
    "y_prime = np.array([0.142, 0.135, 0.122, 0.103])\n",
    "x_prime = np.array([0.6, 0.8, 1.0, 1.2])\n",
    "\n",
    "alpha_gamma_interpolation_function = interpolate.interp1d(x, y)\n",
    "\n",
    "fig = plt.figure()\n",
    "ax = fig.gca()\n",
    "\n",
    "ax.scatter(x, y)\n",
    "ax.scatter(x_prime, y_prime)\n",
    "\n",
    "x_interp = np.geomspace(1., 2., 100)\n",
    "ax.scatter(x_interp, alpha_gamma_interpolation_function(x_interp), c = \"gray\")"
   ],
   "outputs": [],
   "metadata": {}
  }
 ],
 "metadata": {
  "interpreter": {
   "hash": "dca0ade3e726a953b501b15e8e990130d2b7799f14cfd9f4271676035ebe5511"
  },
  "kernelspec": {
   "name": "python3",
   "display_name": "Python 3.7.4 64-bit ('base': conda)"
  },
  "language_info": {
   "codemirror_mode": {
    "name": "ipython",
    "version": 3
   },
   "file_extension": ".py",
   "mimetype": "text/x-python",
   "name": "python",
   "nbconvert_exporter": "python",
   "pygments_lexer": "ipython3",
   "version": "3.7.4"
  }
 },
 "nbformat": 4,
 "nbformat_minor": 2
}