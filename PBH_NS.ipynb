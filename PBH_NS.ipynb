{
 "cells": [
  {
   "cell_type": "markdown",
   "metadata": {},
   "source": [
    "# General"
   ]
  },
  {
   "cell_type": "code",
   "execution_count": 25,
   "metadata": {},
   "outputs": [],
   "source": [
    "%matplotlib widget\n",
    "#%matplotlib notebook\n",
    "\n",
    "from src.merger_rates import *\n",
    "\n",
    "### ---> plotting\n",
    "from matplotlib import pyplot as plt\n",
    "\n",
    "import matplotlib.colors as mcolors\n",
    "import matplotlib.cm as cm\n",
    "from matplotlib.colors import ListedColormap\n",
    "\n",
    "plt.rc('xtick',labelsize=16)\n",
    "plt.rc('ytick',labelsize=16)\n",
    "plt.rc('mathtext', fontset='stix')\n",
    "plt.rc('font', family='STIXGeneral')\n",
    "plt.rc('font', size=15)\n",
    "plt.rc('figure', autolayout=True)\n",
    "plt.rc('axes', titlesize=16, labelsize=17)\n",
    "plt.rc('lines', linewidth=2, markersize=6)\n",
    "plt.rc('legend', fontsize=15)\n",
    "plt.rc('figure')\n"
   ]
  },
  {
   "cell_type": "markdown",
   "metadata": {},
   "source": [
    "# Initialization and computation of varius useful quantities "
   ]
  },
  {
   "cell_type": "code",
   "execution_count": 27,
   "metadata": {},
   "outputs": [
    {
     "name": "stdout",
     "output_type": "stream",
     "text": [
      "Halo propoeries:  dict_keys(['Concentration', 'rho_NFW_0', 'R_NFW_0', 'R_virial', 'N_ns', 'rho_ns_0', 'x_lst', 'NFW_profiles', 'ns_profiles', 'x_lst_plotting', 'NFW_profiles_plotting', 'ns_profiles_plotting', 'M_star'])\n",
      "Cross-section properties:  dict_keys(['v_vir_lst', 'v_dm_lst', 'sigma_v_avg', 'sigma_reference_200'])\n",
      "Per-halo rates:  dict_keys(['PBHPBH_Rate_per_halo', 'PBHPBH_Rate_per_halo_anal', 'PBHNS_Rate_per_halo'])\n",
      "Integrated rates:  dict_keys(['halo_mass_function', 'PBHPBH_rate_lst', 'PBHNS_rate_lst'])\n",
      "Spike properties:  dict_keys(['M_SMBH', 'R_spike', 'R_schw', 'rho_spike_0', 'alpha_gamma'])\n",
      "Spike profiles:  dict_keys(['x_list', 'spike_profiles', 'x_list_plotting', 'spike_profiles_plotting'])\n"
     ]
    }
   ],
   "source": [
    "M_halo_lst = np.geomspace(4e2, 1e15, 1000)*(0.7)*u.Msun # Halo masses in M_sun/h units\n",
    "\n",
    "m_1 = 5.*u.Msun\n",
    "m_2 = 1.4*u.Msun\n",
    "M = m_1 + m_2\n",
    "eta = m_1*m_2/M**2\n",
    "binary_mass_params = {\"m_1\":m_1, \"m_2\":m_2, \"M\":M, \"eta\":eta}\n",
    "\n",
    "R_ns_over_R_NFW = 0.1\n",
    "\n",
    "# Initializing the classes\n",
    "NFW_halo = halo(M_halo_lst, R_ns_over_R_NFW)\n",
    "merger_rates = rates(NFW_halo, binary_mass_params)\n",
    "\n",
    "# Calculating the halo properties\n",
    "halo_properties = NFW_halo.halo_properties()\n",
    "\n",
    "print(\"Halo propoeries: \", halo_properties.keys())\n",
    "\n",
    "C_lst = halo_properties[\"Concentration\"]\n",
    "R_NFW_0_lst = halo_properties[\"R_NFW_0\"]\n",
    "R_vir_lst = halo_properties[\"R_virial\"]\n",
    "N_ns_lst = halo_properties[\"N_ns\"]\n",
    "\n",
    "rho_NFW_0_lst = halo_properties[\"rho_NFW_0\"]\n",
    "rho_ns_0_lst = halo_properties[\"rho_ns_0\"]\n",
    "\n",
    "x_lst_plotting = halo_properties[\"x_lst_plotting\"]\n",
    "NFW_profiles_plotting = halo_properties[\"NFW_profiles_plotting\"]\n",
    "ns_profiles_plotting = halo_properties[\"ns_profiles_plotting\"]\n",
    "\n",
    "M_star_lst = halo_properties[\"M_star\"]\n",
    "R_ns_0_lst = R_ns_over_R_NFW*R_NFW_0_lst\n",
    "\n",
    "\n",
    "cross_section_properties = merger_rates.cross_section()\n",
    "print(\"Cross-section properties: \", cross_section_properties.keys())\n",
    "\n",
    "\n",
    "rates_per_halo = merger_rates.rates_per_halo()\n",
    "print(\"Per-halo rates: \", rates_per_halo.keys())\n",
    "PBHPBH_Rate_per_halo = rates_per_halo[\"PBHPBH_Rate_per_halo\"]\n",
    "PBHPBH_Rate_per_halo_anal = rates_per_halo[\"PBHPBH_Rate_per_halo_anal\"]\n",
    "PBHNS_Rate_per_halo = rates_per_halo[\"PBHNS_Rate_per_halo\"]\n",
    "\n",
    "\n",
    "M_c_lst = np.geomspace(4e2, 1e14, 1000) \n",
    "integarted_rates = merger_rates.integrated_rates(M_c_lst)\n",
    "print(\"Integrated rates: \", integarted_rates.keys())\n",
    "halo_mass_function = integarted_rates[\"halo_mass_function\"]\n",
    "PBHPBH_rate_lst = integarted_rates[\"PBHPBH_rate_lst\"]\n",
    "PBHNS_rate_lst = integarted_rates[\"PBHNS_rate_lst\"]\n",
    "\n",
    "\n",
    "### Calculating the spike properties\n",
    "gamma = 2.\n",
    "DM_spike = spike(NFW_halo, gamma)\n",
    "\n",
    "spike_properties = DM_spike.spike_properties()\n",
    "print(\"Spike properties: \", spike_properties.keys())\n",
    "M_SMBH_lst = spike_properties[\"M_SMBH\"].to(u.M_sun)\n",
    "rho_spike_0_lst = spike_properties[\"rho_spike_0\"].to(u.M_sun/u.kpc**3)\n",
    "R_spike_0_lst = spike_properties[\"R_spike\"].to(u.pc)\n",
    "\n",
    "spike_profiles_dictionary = DM_spike.spike_profiles()\n",
    "print(\"Spike profiles: \", spike_profiles_dictionary.keys())\n",
    "x_lst_spike = spike_profiles_dictionary[\"x_list\"]\n",
    "r_lst_spike = spike_profiles_dictionary[\"x_list\"]*R_spike_0_lst.reshape(len(R_spike_0_lst), 1)\n",
    "spike_profiles = spike_profiles_dictionary[\"spike_profiles\"]\n",
    "\n",
    "x_lst_spike_plotting = spike_profiles_dictionary[\"x_list_plotting\"]\n",
    "r_lst_spike_plotting = spike_profiles_dictionary[\"x_list_plotting\"]*R_spike_0_lst.reshape(len(R_spike_0_lst), 1)\n",
    "spike_profiles_plotting = spike_profiles_dictionary[\"spike_profiles_plotting\"]\n",
    "\n"
   ]
  },
  {
   "cell_type": "markdown",
   "metadata": {},
   "source": [
    "# Plotting various useful quantities"
   ]
  },
  {
   "cell_type": "code",
   "execution_count": 28,
   "metadata": {},
   "outputs": [
    {
     "data": {
      "application/vnd.jupyter.widget-view+json": {
       "model_id": "2bd02ef443234492984c7e45eeef0c06",
       "version_major": 2,
       "version_minor": 0
      },
      "text/plain": [
       "FigureCanvasNbAgg()"
      ]
     },
     "metadata": {},
     "output_type": "display_data"
    },
    {
     "data": {
      "application/vnd.jupyter.widget-view+json": {
       "model_id": "eee69be180fd4c1e9d40a176635b4e6e",
       "version_major": 2,
       "version_minor": 0
      },
      "text/plain": [
       "FigureCanvasNbAgg()"
      ]
     },
     "metadata": {},
     "output_type": "display_data"
    },
    {
     "data": {
      "application/vnd.jupyter.widget-view+json": {
       "model_id": "2d6509baba5743338f35558fd94eb8a2",
       "version_major": 2,
       "version_minor": 0
      },
      "text/plain": [
       "FigureCanvasNbAgg()"
      ]
     },
     "metadata": {},
     "output_type": "display_data"
    },
    {
     "data": {
      "application/vnd.jupyter.widget-view+json": {
       "model_id": "d0effdb5bbde4d49bb0b6d171e8962f7",
       "version_major": 2,
       "version_minor": 0
      },
      "text/plain": [
       "FigureCanvasNbAgg()"
      ]
     },
     "metadata": {},
     "output_type": "display_data"
    },
    {
     "data": {
      "text/plain": [
       "[<matplotlib.lines.Line2D at 0x7f8614d27050>]"
      ]
     },
     "execution_count": 28,
     "metadata": {},
     "output_type": "execute_result"
    }
   ],
   "source": [
    "###########################################################################################\n",
    "fig = plt.figure()\n",
    "ax = fig.gca()\n",
    "\n",
    "ax.plot(M_halo_lst, C_lst, c = \"k\")\n",
    "\n",
    "ax.set_xscale(\"log\")\n",
    "ax.set_yscale(\"log\")\n",
    "\n",
    "ax.set_xlabel(r\"$M_\\mathrm{h}[M_\\odot]$\")\n",
    "ax.set_ylabel(r\"$C(M_\\mathrm{h})$\")\n",
    "\n",
    "ax.set_xlim([min(M_halo_lst.value), max(M_halo_lst.value)])\n",
    "###########################################################################################\n",
    "\n",
    "\n",
    "\n",
    "###########################################################################################\n",
    "fig = plt.figure()\n",
    "ax = fig.gca()\n",
    "\n",
    "ax.plot(M_halo_lst, N_ns_lst, c = \"k\")\n",
    "\n",
    "\n",
    "ax.set_xscale(\"log\")\n",
    "ax.set_yscale(\"log\")\n",
    "\n",
    "\n",
    "ax.set_xlim([min(M_halo_lst.value), max(M_halo_lst.value)])\n",
    "\n",
    "ax.set_ylabel(r\"$N_\\mathrm{ns}$\")\n",
    "ax.set_xlabel(r\"$M_\\mathrm{h}[M_\\odot]$\")\n",
    "###########################################################################################\n",
    "\n",
    "\n",
    "###########################################################################################\n",
    "fig = plt.figure()\n",
    "ax = fig.gca()\n",
    "\n",
    "ax.plot(M_halo_lst.value, halo_mass_function, c = \"k\")\n",
    "\n",
    "ax.set_xscale(\"log\")\n",
    "ax.set_yscale(\"log\")\n",
    "\n",
    "ax.set_xlabel(r\"$M_\\mathrm{c}[M_\\odot/h]$\")\n",
    "ax.set_ylabel(r\"$\\mathrm{d}n/\\mathrm{d}ln(M)$\")\n",
    "\n",
    "ax.set_xlim([min(M_halo_lst.value), max(M_halo_lst.value)])\n",
    "###########################################################################################\n",
    "\n",
    "\n",
    "###########################################################################################\n",
    "fig = plt.figure()\n",
    "ax = fig.gca()\n",
    "\n",
    "ax.plot(M_halo_lst, M_star_lst/M_halo_lst, c = \"black\", ls = \"-\")\n",
    "\n",
    "ax.set_xscale(\"log\")\n",
    "ax.set_yscale(\"log\")\n",
    "\n",
    "ax.set_xlim([min(M_halo_lst.value), max(M_halo_lst.value)])\n",
    "\n",
    "ax.set_ylabel(r\"$M_\\mathrm{star}[M_\\odot/h]/M_\\mathrm{h}[M_\\odot/h]$\")\n",
    "ax.set_xlabel(r\"$M_\\mathrm{h}[M_\\odot/h]$\")\n",
    "\n",
    "\n",
    "\n",
    "# Scalings\n",
    "scaling_line_x_1 = np.geomspace(1e5, 1e9, 100)\n",
    "scaling_line_y_1 = 1e-6*scaling_line_x_1**0.4\n",
    "\n",
    "scaling_line_x_2 = np.geomspace(1e13, 1e15, 100)\n",
    "scaling_line_y_2 = 5e8*scaling_line_x_2**(-0.8)\n",
    "\n",
    "ax.plot(scaling_line_x_1, scaling_line_y_1, c = \"gray\", ls = \"dotted\")\n",
    "ax.plot(scaling_line_x_2, scaling_line_y_2, c = \"gray\", ls = \"dotted\")\n",
    "###########################################################################################\n",
    "\n",
    "\n"
   ]
  },
  {
   "cell_type": "markdown",
   "metadata": {},
   "source": [
    "# Plotting the density profiles"
   ]
  },
  {
   "cell_type": "code",
   "execution_count": 29,
   "metadata": {},
   "outputs": [
    {
     "name": "stdout",
     "output_type": "stream",
     "text": [
      "M_halo = 1.01e+12 solMass \n",
      " M_SMBH = 1.34e+07 solMass \n",
      "\n",
      "M_halo = 1.00e+09 solMass \n",
      " M_SMBH = 1.28e+03 solMass \n",
      "\n",
      "M_halo = 9.92e+05 solMass \n",
      " M_SMBH = 1.06e-01 solMass \n",
      "\n"
     ]
    },
    {
     "data": {
      "application/vnd.jupyter.widget-view+json": {
       "model_id": "7684e29fb089412881dcc8a49a1ba8fb",
       "version_major": 2,
       "version_minor": 0
      },
      "text/plain": [
       "FigureCanvasNbAgg()"
      ]
     },
     "metadata": {},
     "output_type": "display_data"
    }
   ],
   "source": [
    "indx_1e12 = np.argmin(np.abs(M_halo_lst.value - 1e12))\n",
    "indx_1e9 = np.argmin(np.abs(M_halo_lst.value - 1e9))\n",
    "indx_1e6 = np.argmin(np.abs(M_halo_lst.value - 1e6))\n",
    "\n",
    "\n",
    "print(\"M_halo = {:.2e} \\n\".format(M_halo_lst[indx_1e12]), \"M_SMBH = {:.2e} \\n\".format(M_SMBH_lst[indx_1e12]))\n",
    "print(\"M_halo = {:.2e} \\n\".format(M_halo_lst[indx_1e9]), \"M_SMBH = {:.2e} \\n\".format(M_SMBH_lst[indx_1e9]))\n",
    "print(\"M_halo = {:.2e} \\n\".format(M_halo_lst[indx_1e6]), \"M_SMBH = {:.2e} \\n\".format(M_SMBH_lst[indx_1e6]))\n",
    "\n",
    "\n",
    "\n",
    "\n",
    "fig = plt.figure()\n",
    "ax = fig.gca()\n",
    "\n",
    "x = x_lst_plotting[indx_1e12]*R_NFW_0_lst[indx_1e12]\n",
    "ax.plot(x, x**2*rho_NFW_0_lst[indx_1e12]*NFW_profiles_plotting[indx_1e12], c = \"k\")\n",
    "ax.plot(x, x**2*rho_ns_0_lst[indx_1e12]*ns_profiles_plotting[indx_1e12], c = \"darkred\")\n",
    "ax.plot(x, x**2*rho_spike_0_lst[indx_1e12]*spike_profiles_plotting[indx_1e12], c = \"teal\")\n",
    "\n",
    "x = x_lst_plotting[indx_1e9]*R_NFW_0_lst[indx_1e9]\n",
    "ax.plot(x, x**2*rho_NFW_0_lst[indx_1e9]*NFW_profiles_plotting[indx_1e9], c = \"k\", ls = \"--\")\n",
    "ax.plot(x, x**2*rho_ns_0_lst[indx_1e9]*ns_profiles_plotting[indx_1e9], c = \"darkred\", ls = \"--\")\n",
    "\n",
    "x = x_lst_plotting[indx_1e6]*R_NFW_0_lst[indx_1e6]\n",
    "ax.plot(x, x**2*rho_NFW_0_lst[indx_1e6]*NFW_profiles_plotting[indx_1e6], c = \"k\", ls = \"dotted\")\n",
    "ax.plot(x, x**2*rho_ns_0_lst[indx_1e6]*ns_profiles_plotting[indx_1e6], c = \"darkred\", ls = \"dotted\")\n",
    "\n",
    "\n",
    "ax.plot(x_lst_plotting[indx_1e6], -np.ones(len(x_lst_plotting[indx_1e6])), c = \"gray\", ls = \"-\", label = r\"$M_\\mathrm{h} = 10^{12}M_\\odot$\")\n",
    "ax.plot(x_lst_plotting[indx_1e6], -np.ones(len(x_lst_plotting[indx_1e6])), c = \"gray\", ls = \"--\", label = r\"$M_\\mathrm{h} = 10^{9}M_\\odot$\")\n",
    "ax.plot(x_lst_plotting[indx_1e6], -np.ones(len(x_lst_plotting[indx_1e6])), c = \"gray\", ls = \"dotted\", label = r\"$M_\\mathrm{h} = 10^{6}M_\\odot$\")\n",
    "\n",
    "\n",
    "\n",
    "ax.set_xscale(\"log\")\n",
    "ax.set_yscale(\"log\")\n",
    "\n",
    "\n",
    "ax.set_xlim([1e-15, 1e2])\n",
    "ax.set_ylim([1e-6, 1e10])\n",
    "\n",
    "ax.axvline([7e-6], c = \"gray\", ls = \"-\", lw = 1.)\n",
    "\n",
    "\n",
    "ax.text(6e-5, 2e-1, r'NS',\n",
    "         {'color': 'darkred', 'fontsize': 16, 'ha': 'center', 'va': 'center',\n",
    "          'bbox': dict(boxstyle=\"round\", fc=\"white\", ec=\"gray\", pad=0.2)}, rotation = 0)\n",
    "\n",
    "ax.text(1e-3, 6e6, r'NFW',\n",
    "         {'color': 'k', 'fontsize': 16, 'ha': 'center', 'va': 'center',\n",
    "          'bbox': dict(boxstyle=\"round\", fc=\"white\", ec=\"gray\", pad=0.2)}, rotation = 0)\n",
    "\n",
    "ax.text(1e-10, 5e2, r'Spike: ' + r'$M_\\mathrm{SMBH} = 10^7M_\\odot$',\n",
    "         {'color': 'teal', 'fontsize': 16, 'ha': 'center', 'va': 'center',\n",
    "          'bbox': dict(boxstyle=\"round\", fc=\"white\", ec=\"gray\", pad=0.2)}, rotation = 10)\n",
    "\n",
    "\n",
    "ax.set_xlabel(r\"$r[\\mathrm{kpc}]$\")\n",
    "ax.set_ylabel(r\"$r^2\\rho [M_\\odot/\\mathrm{kpc}]$\")\n",
    "\n",
    "ax.legend(loc = 2, ncol = 1)\n",
    "\n",
    "\n",
    "plt.savefig(\"Figs/density_profiles.pdf\")"
   ]
  },
  {
   "cell_type": "markdown",
   "metadata": {},
   "source": [
    "# Calculating the rates presented in the paper"
   ]
  },
  {
   "cell_type": "code",
   "execution_count": 35,
   "metadata": {},
   "outputs": [],
   "source": [
    "M_halo_lst = np.geomspace(4e2, 1e15, 1000)*(0.7)*u.Msun # Halo masses in M_sun/h units\n",
    "M_c_lst = np.geomspace(4e2, 1e14, 100) \n",
    "\n",
    "\n",
    "############################################################################################\n",
    "R_ns_over_R_NFW = 0.1\n",
    "\n",
    "m_1 = 30.*u.Msun\n",
    "m_2 = 30.*u.Msun\n",
    "M = m_1 + m_2\n",
    "eta = m_1*m_2/M**2\n",
    "binary_mass_params = {\"m_1\":m_1, \"m_2\":m_2, \"M\":M, \"eta\":eta}\n",
    "\n",
    "NFW_halo = halo(M_halo_lst, R_ns_over_R_NFW)\n",
    "merger_rates = rates(NFW_halo, binary_mass_params)\n",
    "\n",
    "\n",
    "halo_properties = NFW_halo.halo_properties()\n",
    "rates_per_halo = merger_rates.rates_per_halo()\n",
    "integarted_rates = merger_rates.integrated_rates(M_c_lst)\n",
    "\n",
    "PBHPBH_Rate_per_halo = rates_per_halo[\"PBHPBH_Rate_per_halo\"]\n",
    "PBHPBH_rate_lst = integarted_rates[\"PBHPBH_rate_lst\"]\n",
    "\n",
    "\n",
    "m_1 = 5.*u.Msun\n",
    "m_2 = 1.4*u.Msun\n",
    "M = m_1 + m_2\n",
    "eta = m_1*m_2/M**2\n",
    "binary_mass_params = {\"m_1\":m_1, \"m_2\":m_2, \"M\":M, \"eta\":eta}\n",
    "\n",
    "NFW_halo = halo(M_halo_lst, R_ns_over_R_NFW)\n",
    "merger_rates = rates(NFW_halo, binary_mass_params)\n",
    "\n",
    "\n",
    "halo_properties = NFW_halo.halo_properties()\n",
    "rates_per_halo = merger_rates.rates_per_halo()\n",
    "integarted_rates = merger_rates.integrated_rates(M_c_lst)\n",
    "\n",
    "PBHNS_Rate_per_halo_1 = rates_per_halo[\"PBHNS_Rate_per_halo\"]\n",
    "PBHNS_rate_lst_1 = integarted_rates[\"PBHNS_rate_lst\"]\n",
    "\n",
    "\n",
    "\n",
    "############################################################################################\n",
    "R_ns_over_R_NFW = 0.01\n",
    "\n",
    "m_1 = 5.*u.Msun\n",
    "m_2 = 1.4*u.Msun\n",
    "M = m_1 + m_2\n",
    "eta = m_1*m_2/M**2\n",
    "binary_mass_params = {\"m_1\":m_1, \"m_2\":m_2, \"M\":M, \"eta\":eta}\n",
    "\n",
    "NFW_halo = halo(M_halo_lst, R_ns_over_R_NFW)\n",
    "merger_rates = rates(NFW_halo, binary_mass_params)\n",
    "\n",
    "\n",
    "halo_properties = NFW_halo.halo_properties()\n",
    "rates_per_halo = merger_rates.rates_per_halo()\n",
    "integarted_rates = merger_rates.integrated_rates(M_c_lst)\n",
    "\n",
    "PBHNS_Rate_per_halo_2 = rates_per_halo[\"PBHNS_Rate_per_halo\"]\n",
    "PBHNS_rate_lst_2 = integarted_rates[\"PBHNS_rate_lst\"]\n",
    "############################################################################################\n"
   ]
  },
  {
   "cell_type": "markdown",
   "metadata": {},
   "source": [
    "# Plotting the rates per halo"
   ]
  },
  {
   "cell_type": "code",
   "execution_count": 36,
   "metadata": {},
   "outputs": [
    {
     "data": {
      "application/vnd.jupyter.widget-view+json": {
       "model_id": "7fe153ef1c944c74aa80c036d021ef11",
       "version_major": 2,
       "version_minor": 0
      },
      "text/plain": [
       "FigureCanvasNbAgg()"
      ]
     },
     "metadata": {},
     "output_type": "display_data"
    },
    {
     "name": "stderr",
     "output_type": "stream",
     "text": [
      "/opt/anaconda3/lib/python3.7/site-packages/ipykernel_launcher.py:69: UserWarning: Creating legend with loc=\"best\" can be slow with large amounts of data.\n"
     ]
    }
   ],
   "source": [
    "\n",
    "\n",
    "fig = plt.figure()\n",
    "ax = fig.gca()\n",
    "\n",
    "\n",
    "\n",
    "ax.plot(M_halo_lst, PBHPBH_Rate_per_halo, label = r\"PBH-PBH, $f_\\mathrm{PBH} = 1$\", c = \"red\", ls = \"-\", zorder = 3)\n",
    "ax.plot(M_halo_lst, 1e-6*PBHPBH_Rate_per_halo, label = r\"PBH-PBH, $f_\\mathrm{PBH} = 10^{-3}$\", c = \"red\", ls = \"--\", zorder = 3)\n",
    "\n",
    "ax.plot(M_halo_lst, PBHNS_Rate_per_halo_1, label = r\"PBH-NS, $f_\\mathrm{PBH} = 1$\", c = \"k\", ls = \"-\")\n",
    "ax.plot(M_halo_lst, PBHNS_Rate_per_halo_2, c = \"k\", ls = \"-\")\n",
    "ax.plot(M_halo_lst, 1e-3*PBHNS_Rate_per_halo_1, label = r\"PBH-NS, $f_\\mathrm{PBH} = 10^{-3}$\", c = \"k\", ls = \"--\")\n",
    "ax.plot(M_halo_lst, 1e-3*PBHNS_Rate_per_halo_2, c = \"k\", ls = \"--\")\n",
    "\n",
    "\n",
    "ratio = (PBHNS_Rate_per_halo_2/PBHNS_Rate_per_halo_1)[0]\n",
    "gradient_resolution = 100\n",
    "for indx, scaling in enumerate(np.geomspace(1.1, ratio, gradient_resolution)):\n",
    "    tranparency = 0.6*(1. - indx/gradient_resolution)\n",
    "\n",
    "    #print(indx, tranparency)\n",
    "    ax.plot(M_halo_lst, scaling*PBHNS_Rate_per_halo_1, c = \"lightblue\", ls = \"-\", lw = 0.365, alpha = tranparency)\n",
    "    ax.plot(M_halo_lst, scaling*1e-3*PBHNS_Rate_per_halo_1, c = \"lightblue\", ls = \"-\", lw = 0.365, alpha = tranparency)\n",
    "\n",
    "\n",
    "ax.set_xscale(\"log\")\n",
    "ax.set_yscale(\"log\")\n",
    "\n",
    "\n",
    "\n",
    "ax.legend(ncol = 1)\n",
    "\n",
    "ax.set_xlim([min(M_halo_lst.value), max(M_halo_lst.value)])\n",
    "ax.set_ylim([1e-26, 1e-11])\n",
    "\n",
    "ax.set_xlabel(r\"$M_\\mathrm{h}[M_\\odot/h]$\")\n",
    "ax.set_ylabel(r\"Merger rate per halo $\\mathcal{R}[1/\\mathrm{yr}]$\")\n",
    "\n",
    "plt.axvspan(min(M_halo_lst.value), 1e6, color=\"lightgray\", alpha=0.5, zorder = 1)\n",
    "\n",
    "\n",
    "### Scaling laws\n",
    "# PBH-NS small masses\n",
    "scaling_line_x_1 = np.geomspace(1e5, 1e9, 100)\n",
    "scaling_line_y_1 = 5e-23*scaling_line_x_1**0.8#(10./21. + 0.4)\n",
    "\n",
    "# PBH-NS large masses\n",
    "scaling_line_x_2 = np.geomspace(5e12, 5e14, 100)\n",
    "scaling_line_y_2 = 1.5*1e-7*scaling_line_x_2**(-0.5)#(10./21. - 0.8)\n",
    "\n",
    "# PBH-PBH\n",
    "scaling_line_x_3 = np.geomspace(5e3, 1e7, 100)\n",
    "scaling_line_y_3 = 1e-16*scaling_line_x_3**0.4#(10./21.)\n",
    "\n",
    "ax.plot(scaling_line_x_1, scaling_line_y_1, c = \"gray\", ls = \"dotted\")\n",
    "ax.plot(scaling_line_x_2, scaling_line_y_2, c = \"gray\", ls = \"dotted\")\n",
    "ax.plot(scaling_line_x_3, scaling_line_y_3, c = \"gray\", ls = \"dotted\")\n",
    "\n",
    "\n",
    "ax.text(1e7, 1e-16, r'$\\sim M_\\mathrm{h}^{0.8}$',\n",
    "         {'color': 'gray', 'fontsize': 16, 'ha': 'center', 'va': 'center'}, rotation = 30)\n",
    "\n",
    "ax.text(1e5, 5e-14, r'$\\sim M_\\mathrm{h}^{0.4}$',\n",
    "         {'color': 'gray', 'fontsize': 16, 'ha': 'center', 'va': 'center'}, rotation = 15)\n",
    "\n",
    "ax.text(5e13, 1e-13, r'$\\sim M_\\mathrm{h}^{-0.5}$',\n",
    "         {'color': 'gray', 'fontsize': 16, 'ha': 'center', 'va': 'center'}, rotation = -15)\n",
    "\n",
    "\n",
    "plt.savefig(\"Figs/rates_per_halo.pdf\")\n"
   ]
  },
  {
   "cell_type": "markdown",
   "metadata": {},
   "source": [
    "# Plotting the integrated rates"
   ]
  },
  {
   "cell_type": "code",
   "execution_count": 37,
   "metadata": {},
   "outputs": [
    {
     "data": {
      "application/vnd.jupyter.widget-view+json": {
       "model_id": "1eafce67565b4b8eb2dc4c5b78373144",
       "version_major": 2,
       "version_minor": 0
      },
      "text/plain": [
       "FigureCanvasNbAgg()"
      ]
     },
     "metadata": {},
     "output_type": "display_data"
    }
   ],
   "source": [
    "fig = plt.figure()\n",
    "ax = fig.gca()\n",
    "\n",
    "\n",
    "ax.plot(M_c_lst, PBHNS_rate_lst_1, label = r\"PBH-NS, $f_\\mathrm{PBH} = 1$\", c = \"k\", ls = \"-\")\n",
    "ax.plot(M_c_lst, PBHNS_rate_lst_2, c = \"k\", ls = \"-\")\n",
    "ax.plot(M_c_lst, 1e-3*PBHNS_rate_lst_1, label = r\"PBH-NS, $f_\\mathrm{PBH} = 10^{-3}$\", c = \"k\", ls = \"--\")\n",
    "ax.plot(M_c_lst, 1e-3*PBHNS_rate_lst_2, c = \"k\", ls = \"--\")\n",
    "\n",
    "\n",
    "ratio = (PBHNS_rate_lst_2/PBHNS_rate_lst_1)[0]\n",
    "gradient_resolution = 100\n",
    "for indx, scaling in enumerate(np.geomspace(1.1, ratio, gradient_resolution)):\n",
    "    tranparency = 0.6*(1. - indx/gradient_resolution)\n",
    "\n",
    "    ax.plot(M_c_lst, scaling*PBHNS_rate_lst_1, c = \"lightblue\", ls = \"-\", lw = 0.365, alpha = tranparency)\n",
    "    ax.plot(M_c_lst, scaling*1e-3*PBHNS_rate_lst_1, c = \"lightblue\", ls = \"-\", lw = 0.365, alpha = tranparency)\n",
    "\n",
    "\n",
    "\n",
    "\n",
    "ax.plot(M_c_lst, PBHPBH_rate_lst, label = r\"PBH-PBH, $f_\\mathrm{PBH} = 1$\", c = \"red\", ls = \"-\", zorder = 3)\n",
    "#ax.scatter(M_c_lst, PBHPBH_rate_lst_1, color = \"red\", zorder = 3)\n",
    "ax.plot(M_c_lst, 1e-6*PBHPBH_rate_lst, label = r\"PBH-PBH, $f_\\mathrm{PBH} = 10^{-3}$\", c = \"red\", ls = \"--\", zorder = 3)\n",
    "#ax.scatter(M_c_lst, 1e-6*PBHPBH_rate_lst_1, color = \"red\", zorder = 3)\n",
    "\n",
    "ax.set_xscale(\"log\")\n",
    "ax.set_yscale(\"log\")\n",
    "\n",
    "\n",
    "\n",
    "#ax.legend(ncol = 1)\n",
    "\n",
    "ax.set_xlim([min(M_c_lst), max(M_c_lst)])\n",
    "#ax.set_ylim([1e-26, 1e-11])\n",
    "\n",
    "plt.axvspan(min(M_halo_lst.value), 1e6, color=\"lightgray\", alpha=0.5, zorder = 1)\n",
    "\n",
    "#plt.axhspan(45. - 33., 45. + 75., color=\"lightblue\", alpha=0.5, zorder = 1)\n",
    "\n",
    "#plt.axhspan(10.3, 104., color=\"lightblue\", alpha=0.5, zorder = 1)\n",
    "\n",
    "ax.set_xlabel(r\"$M_\\mathrm{c}[M_\\odot/h]$\")\n",
    "ax.set_ylabel(r\"$\\mathrm{Rate}[\\mathrm{yr}^{-1}\\mathrm{Gpc}^{-3}]$\")\n",
    "\n",
    "ax.axhline([1.], ls = \"--\", c = \"gray\")\n",
    "\n",
    "### Scaling laws\n",
    "# PBH-NS small masses\n",
    "scaling_line_x_1 = np.geomspace(1e5, 1e9, 100)\n",
    "scaling_line_y_1 = 6e-4*scaling_line_x_1**(-0.2)\n",
    "\n",
    "# PBH-NS large masses\n",
    "scaling_line_x_2 = np.geomspace(1e12, 1e14, 100)\n",
    "scaling_line_y_2 = 1e12*scaling_line_x_2**(-1.5)\n",
    "\n",
    "# PBH-PBH\n",
    "scaling_line_x_3 = np.geomspace(1e6, 1e10, 100)\n",
    "scaling_line_y_3 = 5e2*scaling_line_x_3**(-0.6)#0.6\n",
    "\n",
    "ax.plot(scaling_line_x_1, scaling_line_y_1, c = \"gray\", ls = \"dotted\")\n",
    "ax.plot(scaling_line_x_2, scaling_line_y_2, c = \"gray\", ls = \"dotted\")\n",
    "ax.plot(scaling_line_x_3, scaling_line_y_3, c = \"gray\", ls = \"dotted\")\n",
    "\n",
    "\n",
    "ax.text(1e7, 9e-5, r'$\\sim M_\\mathrm{c}^{-0.2}$',\n",
    "         {'color': 'gray', 'fontsize': 16, 'ha': 'center', 'va': 'center'}, rotation = -5)\n",
    "\n",
    "ax.text(1e13, 2e-7, r'$\\sim M_\\mathrm{c}^{-1.5}$',\n",
    "         {'color': 'gray', 'fontsize': 16, 'ha': 'center', 'va': 'center'}, rotation = -35)\n",
    "\n",
    "ax.text(1e8, 4e-2, r'$\\sim M_\\mathrm{c}^{-0.6}$',\n",
    "         {'color': 'gray', 'fontsize': 16, 'ha': 'center', 'va': 'center'}, rotation = -15)\n",
    "\n",
    "\n",
    "\n",
    "plt.savefig(\"Figs/total_rates.pdf\")"
   ]
  },
  {
   "cell_type": "markdown",
   "metadata": {},
   "source": [
    "# Rates in spikes"
   ]
  },
  {
   "cell_type": "code",
   "execution_count": 38,
   "metadata": {},
   "outputs": [
    {
     "data": {
      "application/vnd.jupyter.widget-view+json": {
       "model_id": "64e3d989714b405698b53ad996df1112",
       "version_major": 2,
       "version_minor": 0
      },
      "text/plain": [
       "FigureCanvasNbAgg()"
      ]
     },
     "metadata": {},
     "output_type": "display_data"
    }
   ],
   "source": [
    "M_pbh = 1.*u.M_sun\n",
    "\n",
    "\n",
    "ref_velo = 200*u.km/u.s\n",
    "velo_prefac_tmp = (const.G*M_SMBH_lst/R_spike_0_lst)**(1./2.)/ref_velo\n",
    "velo_prefac = velo_prefac_tmp**(-11./7.)*ref_velo\n",
    "\n",
    "sigma_v_prefac = 1.4*1e-14*(M_pbh/30./u.M_sun)**2*velo_prefac*u.pc**2\n",
    "\n",
    "\n",
    "### PBH-PBH\n",
    "integral = np.trapz(spike_profiles**2*x_lst_spike**2*x_lst_spike**(11./14.), x_lst_spike, axis = 1)\n",
    "\n",
    "\n",
    "\n",
    "radius_prefac = 4.*np.pi*0.5*R_spike_0_lst**3*rho_spike_0_lst**2/M_pbh**2\n",
    "\n",
    "integral_prefac = (sigma_v_prefac*radius_prefac).to(1./u.yr)\n",
    "N_spike_PBH_PBH = integral_prefac*integral\n",
    "\n",
    "### PBH-NS\n",
    "ns_profiles = NFW_halo.NS_tilde(x_lst_spike, np.array([R_spike_0_lst, R_ns_0_lst]))\n",
    "integral = np.trapz(spike_profiles*ns_profiles*x_lst_spike**2*x_lst_spike**(11./14.), x_lst_spike, axis = 1)\n",
    "\n",
    "radius_prefac = 4.*np.pi*0.5*R_spike_0_lst**3*rho_spike_0_lst*rho_ns_0_lst/M_pbh**2\n",
    "\n",
    "integral_prefac = (sigma_v_prefac*radius_prefac).to(1./u.yr)\n",
    "N_spike_PBH_NS = integral_prefac*integral\n",
    "\n",
    "\n",
    "\n",
    "\n",
    "fig = plt.figure()\n",
    "ax = fig.gca()\n",
    "\n",
    "ax.plot(M_SMBH_lst.value, N_spike_PBH_PBH, c = \"k\", ls = \"--\")\n",
    "ax.plot(M_SMBH_lst.value, 1e-6*N_spike_PBH_PBH, c = \"k\")\n",
    "\n",
    "ax.plot(M_SMBH_lst.value, N_spike_PBH_NS, c = \"darkred\", ls = \"--\")\n",
    "ax.plot(M_SMBH_lst.value, 1e-3*N_spike_PBH_NS, c = \"darkred\")\n",
    "\n",
    "\n",
    "ax.plot(M_SMBH_lst.value, -np.ones(len(M_SMBH_lst.value)), c = \"gray\", ls = \"-\", label = r\"$f_\\mathrm{PBH} = 10^{-3}$\")\n",
    "ax.plot(M_SMBH_lst.value, -np.ones(len(M_SMBH_lst.value)), c = \"gray\", ls = \"--\", label = r\"$f_\\mathrm{PBH} = 1$\")\n",
    "\n",
    "\n",
    "\n",
    "\n",
    "ax.text(5e6, 7e-22, r'PBH-NS',\n",
    "         {'color': 'darkred', 'fontsize': 16, 'ha': 'center', 'va': 'center',\n",
    "          'bbox': dict(boxstyle=\"round\", fc=\"white\", ec=\"gray\", pad=0.2)}, rotation = 0)\n",
    "\n",
    "ax.text(5e6, 1e-7, r'PBH-PBH',\n",
    "         {'color': 'k', 'fontsize': 16, 'ha': 'center', 'va': 'center',\n",
    "          'bbox': dict(boxstyle=\"round\", fc=\"white\", ec=\"gray\", pad=0.2)}, rotation = 0)\n",
    "\n",
    "\n",
    "\n",
    "\n",
    "ax.set_xscale(\"log\")\n",
    "ax.set_yscale(\"log\")\n",
    "\n",
    "ax.legend(ncol = 1, loc = 4)\n",
    "\n",
    "ax.set_xlim([1e6, 1e8])\n",
    "ax.set_ylim([1e-26, 2e-2])\n",
    "\n",
    "ax.set_xlabel(r\"$M_\\mathrm{SMBH}[M_\\mathrm{Sun}]$\")\n",
    "ax.set_ylabel(r\"Merger rate per spike $N_\\mathrm{sp}[1/\\mathrm{yr}]$\")\n",
    "\n",
    "\n",
    "\n",
    "plt.savefig(\"Figs/rate_per_spike.pdf\")"
   ]
  },
  {
   "cell_type": "code",
   "execution_count": null,
   "metadata": {},
   "outputs": [],
   "source": []
  }
 ],
 "metadata": {
  "interpreter": {
   "hash": "40d3a090f54c6569ab1632332b64b2c03c39dcf918b08424e98f38b5ae0af88f"
  },
  "kernelspec": {
   "display_name": "Python 3.7.4 64-bit ('base': conda)",
   "name": "python3"
  },
  "language_info": {
   "codemirror_mode": {
    "name": "ipython",
    "version": 3
   },
   "file_extension": ".py",
   "mimetype": "text/x-python",
   "name": "python",
   "nbconvert_exporter": "python",
   "pygments_lexer": "ipython3",
   "version": "3.7.4"
  }
 },
 "nbformat": 4,
 "nbformat_minor": 2
}
